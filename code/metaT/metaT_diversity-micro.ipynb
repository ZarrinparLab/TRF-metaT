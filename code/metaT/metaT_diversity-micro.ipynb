{
 "cells": [
  {
   "cell_type": "markdown",
   "metadata": {},
   "source": [
    "## Metatranscriptomics processing (microbes with function)"
   ]
  },
  {
   "cell_type": "code",
   "execution_count": 1,
   "metadata": {},
   "outputs": [],
   "source": [
    "import qiime2\n",
    "import biom\n",
    "import pandas as pd\n",
    "import numpy as np\n",
    "import time\n",
    "import seaborn as sns\n",
    "import matplotlib.pyplot as plt\n",
    "import os\n",
    "\n",
    "%matplotlib inline\n",
    "import glob"
   ]
  },
  {
   "cell_type": "markdown",
   "metadata": {},
   "source": [
    "## genus|func Alpha diversity"
   ]
  },
  {
   "cell_type": "code",
   "execution_count": null,
   "metadata": {},
   "outputs": [],
   "source": [
    "qiime diversity alpha-rarefaction \\\n",
    "  --i-table /mnt/zarrinpar/scratch/sfloresr/TRF_multiomics/metatranscript/woltka2_m_results/genus_pfam/genus_pfam_clean_rmdoubletons_noNT.qza \\\n",
    "  --p-max-depth 3000000 \\\n",
    "  --p-min-depth 500000 \\\n",
    "  --p-steps 10 \\\n",
    "  --m-metadata-file /mnt/zarrinpar/scratch/sfloresr/TRF_multiomics/metatranscript/woltka2_m_results/metaT_metadata_ztcat_noNT.txt \\\n",
    "  --output-dir /mnt/zarrinpar/scratch/sfloresr/TRF_multiomics/metatranscript/woltka2_m_results/genus_pfam/alpha-rarefaction3M \\\n",
    "  --o-visualization /mnt/zarrinpar/scratch/sfloresr/TRF_multiomics/metatranscript/woltka2_m_results/genus_pfam/alpha-rarefaction3M.qzv"
   ]
  },
  {
   "cell_type": "code",
   "execution_count": null,
   "metadata": {},
   "outputs": [],
   "source": [
    "qiime diversity core-metrics \\\n",
    "  --i-table /mnt/zarrinpar/scratch/sfloresr/TRF_multiomics/metatranscript/woltka2_m_results/genus_pfam/genus_pfam_clean_rmdoubletons_noNT.qza \\\n",
    "  --p-sampling-depth 1600000 \\\n",
    "  --m-metadata-file /mnt/zarrinpar/scratch/sfloresr/TRF_multiomics/metatranscript/woltka2_m_results/metaT_metadata_ztcat_noNT.txt \\\n",
    "  --output-dir /mnt/zarrinpar/scratch/sfloresr/TRF_multiomics/metatranscript/woltka2_m_results/genus_pfam/diversity-core-metrics1.6M/"
   ]
  },
  {
   "cell_type": "code",
   "execution_count": null,
   "metadata": {},
   "outputs": [],
   "source": [
    "qiime qurro loading-plot \\\n",
    "    --i-table /mnt/zarrinpar/scratch/sfloresr/TRF_multiomics/metatranscript/woltka2_m_results/genus_pfam/genus_pfam_clean_rmdoubletons_noNT.qza \\\n",
    "    --i-ranks /mnt/zarrinpar/scratch/sfloresr/TRF_multiomics/metatranscript/woltka2_m_results/genus_pfam/rpca_results_rmdoubletons/ordination.qza \\\n",
    "    --m-sample-metadata-file /mnt/zarrinpar/scratch/sfloresr/TRF_multiomics/metatranscript/woltka2_m_results/metaT_metadata_ztcat_noNT.txt \\\n",
    "    --o-visualization /mnt/zarrinpar/scratch/sfloresr/TRF_multiomics/metatranscript/woltka2_m_results/genus_pfam/rpca_results_rmdoubletons/qurro_genuspfam_TRFmetaT_noNT.qzv\n",
    "\n",
    "qiime qurro loading-plot \\\n",
    "    --i-table /mnt/zarrinpar/scratch/sfloresr/TRF_multiomics/metatranscript/woltka2_m_results/genus_pfam/genus_pfam_BSH_RPOB_clean_rmzero_noNT.qza \\\n",
    "    --i-ranks /mnt/zarrinpar/scratch/sfloresr/TRF_multiomics/metatranscript/woltka2_m_results/genus_pfam/rpca_results_BSH_RPOB_rmzero/ordination.qza \\\n",
    "    --m-sample-metadata-file /mnt/zarrinpar/scratch/sfloresr/TRF_multiomics/metatranscript/woltka2_m_results/metaT_metadata_ztcat_noNT.txt \\\n",
    "    --o-visualization /mnt/zarrinpar/scratch/sfloresr/TRF_multiomics/metatranscript/woltka2_m_results/genus_pfam/rpca_results_BSH_RPOB_rmzero/qurro_genus_pfam_BSH_RPOB_clean_rmzero_TRFmetaT_noNT.qzv"
   ]
  },
  {
   "cell_type": "markdown",
   "metadata": {},
   "source": [
    "## genus|pfam Alpha diversity"
   ]
  },
  {
   "cell_type": "code",
   "execution_count": null,
   "metadata": {},
   "outputs": [],
   "source": [
    "qiime diversity alpha-rarefaction \\\n",
    "  --i-table /mnt/zarrinpar/scratch/sfloresr/metatranscript/metatranscript/woltka2_results/species_func/species_pfam_clean_noNT.qza \\\n",
    "  --p-max-depth 3000000 \\\n",
    "  --p-min-depth 500000 \\\n",
    "  --p-steps 10 \\\n",
    "  --m-metadata-file /mnt/zarrinpar/scratch/sfloresr/metatranscript/metatranscript/woltka2_results/metaT_metadata_noNT.txt \\\n",
    "  --output-dir /mnt/zarrinpar/scratch/sfloresr/metatranscript/metatranscript/woltka2_results/species_func/alpha-rarefaction3M \\\n",
    "  --o-visualization /mnt/zarrinpar/scratch/sfloresr/metatranscript/metatranscript/woltka2_results/species_func/alpha-rarefaction3M.qzv"
   ]
  },
  {
   "cell_type": "code",
   "execution_count": null,
   "metadata": {},
   "outputs": [],
   "source": [
    "qiime diversity core-metrics \\\n",
    "  --i-table /mnt/zarrinpar/scratch/sfloresr/metatranscript/metatranscript/woltka2_results/species_func/species_pfam_clean_noNT.qza \\\n",
    "  --p-sampling-depth 1100000 \\\n",
    "  --m-metadata-file /mnt/zarrinpar/scratch/sfloresr/metatranscript/metatranscript/woltka2_results/metaT_metadata_noNT.txt \\\n",
    "  --output-dir /mnt/zarrinpar/scratch/sfloresr/metatranscript/metatranscript/woltka2_results/species_func/diversity-core-metrics1.1M/"
   ]
  },
  {
   "cell_type": "markdown",
   "metadata": {},
   "source": [
    "## genus|pfam beta diversity\n",
    "\n",
    "This was run using the run_rpca.sh script"
   ]
  },
  {
   "cell_type": "code",
   "execution_count": null,
   "metadata": {},
   "outputs": [],
   "source": [
    "qiime qurro differential-plot \\\n",
    "    --i-table /mnt/zarrinpar/scratch/sfloresr/TRF_multiomics/metatranscript/woltka2_m_results/genus_pfam/genus_pfam_clean_rmdoubletons_noNT.qza \\\n",
    "    --i-ranks /mnt/zarrinpar/scratch/sfloresr/TRF_multiomics/metatranscript/woltka2_m_results/genus_pfam/songbird_rmdoubletons/differentials.qza \\\n",
    "    --m-sample-metadata-file /mnt/zarrinpar/scratch/sfloresr/TRF_multiomics/metatranscript/woltka2_m_results/metaT_metadata_ztcat_noNT.txt \\\n",
    "    --o-visualization /mnt/zarrinpar/scratch/sfloresr/TRF_multiomics/metatranscript/woltka2_m_results/genus_pfam/songbird_rmdoubletons/qurro_genuspfam_sb_TRFmetaT_noNT.qzv\n",
    "\n",
    "qiime qurro differential-plot \\\n",
    "    --i-table /mnt/zarrinpar/scratch/sfloresr/TRF_multiomics/metatranscript/woltka2_m_results/genus_pfam/genus_pfam_clean_rmdoubletons_noNT.qza \\\n",
    "    --i-ranks /mnt/zarrinpar/scratch/sfloresr/TRF_multiomics/metatranscript/woltka2_m_results/genus_pfam/songbird_rmdoubletons_FA/differentials.qza \\\n",
    "    --m-sample-metadata-file /mnt/zarrinpar/scratch/sfloresr/TRF_multiomics/metatranscript/woltka2_m_results/metaT_metadata_ztcat_noNT.txt \\\n",
    "    --o-visualization /mnt/zarrinpar/scratch/sfloresr/TRF_multiomics/metatranscript/woltka2_m_results/genus_pfam/songbird_rmdoubletons_FA/qurro_genuspfam_sb_TRFmetaT_noNT.qzv"
   ]
  },
  {
   "cell_type": "markdown",
   "metadata": {},
   "source": [
    "## Species|pfam"
   ]
  },
  {
   "cell_type": "code",
   "execution_count": null,
   "metadata": {},
   "outputs": [],
   "source": [
    "qiime qurro loading-plot \\\n",
    "    --i-table /mnt/zarrinpar/scratch/sfloresr/TRF_multiomics/metatranscript/woltka2_m_results/species_pfam/species_pfam_clean_rminless5samps_noNT.qza \\\n",
    "    --i-ranks /mnt/zarrinpar/scratch/sfloresr/TRF_multiomics/metatranscript/woltka2_m_results/species_pfam/rpca_results_rminless5samps/ordination.qza \\\n",
    "    --m-sample-metadata-file /mnt/zarrinpar/scratch/sfloresr/TRF_multiomics/metatranscript/woltka2_m_results/metaT_metadata_ztcat_noNT.txt \\\n",
    "    --o-visualization /mnt/zarrinpar/scratch/sfloresr/TRF_multiomics/metatranscript/woltka2_m_results/species_pfam/rpca_results_rminless5samps/qurro_speciespfam_TRFmetaT_noNT.qzv\n",
    "\n",
    "qiime qurro loading-plot \\\n",
    "    --i-table /mnt/zarrinpar/scratch/sfloresr/TRF_multiomics/metatranscript/woltka2_m_results/species_pfam/species_pfam_BSH_RPOB_clean_rmzero_noNT.qza \\\n",
    "    --i-ranks /mnt/zarrinpar/scratch/sfloresr/TRF_multiomics/metatranscript/woltka2_m_results/species_pfam/rpca_results_BSH_RPOB_rmzero/ordination.qza \\\n",
    "    --m-sample-metadata-file /mnt/zarrinpar/scratch/sfloresr/TRF_multiomics/metatranscript/woltka2_m_results/metaT_metadata_ztcat_noNT.txt \\\n",
    "    --o-visualization /mnt/zarrinpar/scratch/sfloresr/TRF_multiomics/metatranscript/woltka2_m_results/species_pfam/rpca_results_BSH_RPOB_rmzero/qurro_speciespfam_BSH_RPOB_TRFmetaT_noNT.qzv"
   ]
  },
  {
   "cell_type": "markdown",
   "metadata": {},
   "source": [
    "## Targeted BSH"
   ]
  },
  {
   "cell_type": "code",
   "execution_count": null,
   "metadata": {},
   "outputs": [],
   "source": [
    "qiime qurro loading-plot \\\n",
    "    --i-table /mnt/zarrinpar/scratch/sfloresr/TRF_multiomics/metatranscript/woltka2_m_results/BSH/genome_noNT_rmdbton.qza \\\n",
    "    --i-ranks /mnt/zarrinpar/scratch/sfloresr/TRF_multiomics/metatranscript/woltka2_m_results/BSH/rpca_results_genome/ordination.qza \\\n",
    "    --m-feature-metadata-file /mnt/zarrinpar/scratch/sfloresr/TRF_multiomics/metatranscript/woltka2_m_results/BSH/BSH_db_metadata_cln.txt \\\n",
    "    --m-sample-metadata-file /mnt/zarrinpar/scratch/sfloresr/TRF_multiomics/metatranscript/woltka2_m_results/metaT_metadata_ztcat_noNT.txt \\\n",
    "    --o-visualization /mnt/zarrinpar/scratch/sfloresr/TRF_multiomics/metatranscript/woltka2_m_results/BSH/rpca_results_genome/qurro_BSHgenome_TRFmetaT_noNT.qzv"
   ]
  }
 ],
 "metadata": {
  "kernelspec": {
   "display_name": "qiime2-2022.2",
   "language": "python",
   "name": "qiime2-2022.2"
  },
  "language_info": {
   "codemirror_mode": {
    "name": "ipython",
    "version": 3
   },
   "file_extension": ".py",
   "mimetype": "text/x-python",
   "name": "python",
   "nbconvert_exporter": "python",
   "pygments_lexer": "ipython3",
   "version": "3.8.12"
  }
 },
 "nbformat": 4,
 "nbformat_minor": 4
}

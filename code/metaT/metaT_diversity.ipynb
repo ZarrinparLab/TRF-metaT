{
 "cells": [
  {
   "cell_type": "markdown",
   "metadata": {},
   "source": [
    "## Metatranscriptomics processing"
   ]
  },
  {
   "cell_type": "code",
   "execution_count": 6,
   "metadata": {},
   "outputs": [],
   "source": [
    "import qiime2\n",
    "import biom\n",
    "import pandas as pd\n",
    "import numpy as np\n",
    "import time\n",
    "import seaborn as sns\n",
    "import matplotlib.pyplot as plt\n",
    "import os\n",
    "\n",
    "%matplotlib inline\n",
    "import glob"
   ]
  },
  {
   "cell_type": "markdown",
   "metadata": {},
   "source": [
    "### Alpha diversity"
   ]
  },
  {
   "cell_type": "code",
   "execution_count": null,
   "metadata": {},
   "outputs": [],
   "source": [
    "qiime diversity alpha-rarefaction \\\n",
    "  --i-table /mnt/zarrinpar/scratch/sfloresr/TRF_multiomics/metatranscript/woltka2_m_results/pfam/pfam_clean_noNT.qza \\\n",
    "  --p-max-depth 3000000 \\\n",
    "  --p-min-depth 500000 \\\n",
    "  --p-steps 10 \\\n",
    "  --m-metadata-file /mnt/zarrinpar/scratch/sfloresr/TRF_multiomics/metatranscript/woltka2_m_results/metaT_metadata_ztcat_noNT.txt \\\n",
    "  --output-dir /mnt/zarrinpar/scratch/sfloresr/TRF_multiomics/metatranscript/woltka2_m_results/pfam/alpha-rarefaction3M \\\n",
    "  --o-visualization /mnt/zarrinpar/scratch/sfloresr/TRF_multiomics/metatranscript/woltka2_m_results/pfam/alpha-rarefaction3M.qzv"
   ]
  },
  {
   "cell_type": "code",
   "execution_count": null,
   "metadata": {},
   "outputs": [],
   "source": [
    "qiime diversity core-metrics \\\n",
    "  --i-table /mnt/zarrinpar/scratch/sfloresr/TRF_multiomics/metatranscript/woltka2_m_results/pfam/pfam_clean_noNT.qza \\\n",
    "  --p-sampling-depth 2300000 \\\n",
    "  --m-metadata-file /mnt/zarrinpar/scratch/sfloresr/TRF_multiomics/metatranscript/woltka2_m_results/metaT_metadata_ztcat_noNT.txt \\\n",
    "  --output-dir /mnt/zarrinpar/scratch/sfloresr/TRF_multiomics/metatranscript/woltka2_m_results/pfam/diversity-core-metrics2.3M/"
   ]
  },
  {
   "cell_type": "markdown",
   "metadata": {},
   "source": [
    "max mtx depth is 7,299,143"
   ]
  },
  {
   "cell_type": "markdown",
   "metadata": {},
   "source": [
    "## get the depth of the genome.tsv file for the not norm table"
   ]
  },
  {
   "cell_type": "markdown",
   "metadata": {},
   "source": [
    "max depth of mtg 113,935"
   ]
  },
  {
   "cell_type": "code",
   "execution_count": null,
   "metadata": {},
   "outputs": [],
   "source": [
    "biom convert \\\n",
    "-i /mnt/zarrinpar/scratch/sfloresr/TRF_multiomics/metatranscript/woltka2_m_results/genome_clean_noNT.tsv \\\n",
    "-o /mnt/zarrinpar/scratch/sfloresr/TRF_multiomics/metatranscript/woltka2_m_results/genome_clean_noNT.biom \\\n",
    "--table-type=\"OTU table\" \\\n",
    "--to-hdf5\n",
    "\n",
    "qiime tools import \\\n",
    "--input-path /mnt/zarrinpar/scratch/sfloresr/TRF_multiomics/metatranscript/woltka2_m_results/genome_clean_noNT.biom \\\n",
    "--output-path /mnt/zarrinpar/scratch/sfloresr/TRF_multiomics/metatranscript/woltka2_m_results/genome_clean_noNT.qza \\\n",
    "--type FeatureTable[Frequency]"
   ]
  },
  {
   "cell_type": "markdown",
   "metadata": {},
   "source": [
    "mtx genome depth is 60,610,350"
   ]
  },
  {
   "cell_type": "code",
   "execution_count": null,
   "metadata": {},
   "outputs": [],
   "source": [
    "qiime diversity alpha-rarefaction \\\n",
    "  --i-table /mnt/zarrinpar/scratch/sfloresr/TRF_multiomics/metatranscript/woltka2_m_results/genome_clean_noNT.qza \\\n",
    "  --p-max-depth 80000000 \\\n",
    "  --p-min-depth 500000 \\\n",
    "  --p-steps 10 \\\n",
    "  --m-metadata-file /mnt/zarrinpar/scratch/sfloresr/TRF_multiomics/metatranscript/woltka2_m_results/metaT_metadata_ztcat_noNT.txt \\\n",
    "  --output-dir /mnt/zarrinpar/scratch/sfloresr/TRF_multiomics/metatranscript/woltka2_m_results/g-alpha-rarefaction80M \\\n",
    "  --o-visualization /mnt/zarrinpar/scratch/sfloresr/TRF_multiomics/metatranscript/woltka2_m_results/g-alpha-rarefaction80M.qzv"
   ]
  },
  {
   "cell_type": "markdown",
   "metadata": {},
   "source": [
    "get rarefied table that matches depth of MGX"
   ]
  },
  {
   "cell_type": "code",
   "execution_count": null,
   "metadata": {},
   "outputs": [],
   "source": [
    "qiime diversity core-metrics \\\n",
    "  --i-table /mnt/zarrinpar/scratch/sfloresr/TRF_multiomics/metatranscript/woltka2_m_results/genome_clean_noNT.qza \\\n",
    "  --p-sampling-depth 113935 \\\n",
    "  --m-metadata-file /mnt/zarrinpar/scratch/sfloresr/TRF_multiomics/metatranscript/woltka2_m_results/metaT_metadata_ztcat_noNT.txt \\\n",
    "  --output-dir /mnt/zarrinpar/scratch/sfloresr/TRF_multiomics/metatranscript/woltka2_m_results/g-diversity-core-metrics114K/"
   ]
  },
  {
   "cell_type": "code",
   "execution_count": null,
   "metadata": {},
   "outputs": [],
   "source": [
    "qiime tools export --input-path /mnt/zarrinpar/scratch/sfloresr/TRF_multiomics/metatranscript/woltka2_m_results/g-diversity-core-metrics114K/rarefied_table.qza \\\n",
    "    --output-path /mnt/zarrinpar/scratch/sfloresr/TRF_multiomics/metatranscript/woltka2_m_results/g-diversity-core-metrics114K/rarefied_table"
   ]
  },
  {
   "cell_type": "code",
   "execution_count": null,
   "metadata": {},
   "outputs": [],
   "source": [
    "biom convert -i /mnt/zarrinpar/scratch/sfloresr/TRF_multiomics/metatranscript/woltka2_m_results/g-diversity-core-metrics114K/rarefied_table/feature-table.biom \\\n",
    "    -o /mnt/zarrinpar/scratch/sfloresr/TRF_multiomics/metatranscript/woltka2_m_results/g-diversity-core-metrics114K/rarefied_table/feature-table.tsv \\\n",
    "    --to-tsv"
   ]
  },
  {
   "cell_type": "code",
   "execution_count": null,
   "metadata": {},
   "outputs": [],
   "source": [
    "woltka tools collapse -i feature-table.tsv -m /mnt/zarrinpar/Pynchon/Databases/wol2/function/pfam/orf-to-pfam.map.xz -n /mnt/zarrinpar/Pynchon/Databases/wol2/function/pfam/pfam_description.txt -o pfam-144k.tsv"
   ]
  },
  {
   "cell_type": "code",
   "execution_count": null,
   "metadata": {},
   "outputs": [],
   "source": [
    "woltka normalize -i feature-table.tsv --sizes /mnt/zarrinpar/Pynchon/Databases/wol2/proteins/coords.txt.xz --scale 1k --digits 3 -o feature-table-rpk.tsv"
   ]
  },
  {
   "cell_type": "code",
   "execution_count": null,
   "metadata": {},
   "outputs": [],
   "source": [
    "woltka normalize -i feature-table-rpk.tsv --scale 1M -o feature-table-TPM.tsv"
   ]
  },
  {
   "cell_type": "code",
   "execution_count": null,
   "metadata": {},
   "outputs": [],
   "source": [
    "woltka tools collapse -i feature-table-TPM.tsv -m /mnt/zarrinpar/Pynchon/Databases/wol2/function/pfam/orf-to-pfam.map.xz -n /mnt/zarrinpar/Pynchon/Databases/wol2/function/pfam/pfam_description.txt -o pfam-144k_TPM.tsv"
   ]
  },
  {
   "cell_type": "markdown",
   "metadata": {},
   "source": [
    "## Get beta diversity"
   ]
  },
  {
   "cell_type": "code",
   "execution_count": null,
   "metadata": {},
   "outputs": [],
   "source": [
    "qiime deicode rpca \\\n",
    "    --i-table /mnt/zarrinpar/scratch/sfloresr/metatranscript/metatranscript/woltka2_results/pfam/pfam_clean_noNT.qza \\\n",
    "    --p-min-feature-count 15 \\\n",
    "    --p-min-sample-count 500 \\\n",
    "    --o-biplot /mnt/zarrinpar/scratch/sfloresr/metatranscript/metatranscript/woltka2_results/ordination_deicode_TRFmetaT_noNT.qza \\\n",
    "    --o-distance-matrix /mnt/zarrinpar/scratch/sfloresr/metatranscript/metatranscript/woltka2_results/beta_deicode_TRFmetaT_noNT.qza"
   ]
  },
  {
   "cell_type": "code",
   "execution_count": null,
   "metadata": {},
   "outputs": [],
   "source": [
    "qiime emperor biplot \\\n",
    "    --i-biplot /mnt/zarrinpar/scratch/sfloresr/metatranscript/metatranscript/woltka2_results/ordination_deicode_TRFmetaT_noNT.qza \\\n",
    "    --m-sample-metadata-file /mnt/zarrinpar/scratch/sfloresr/metatranscript/metatranscript/woltka2_results/metaT_metadata_noNT.txt \\\n",
    "    --p-ignore-missing-samples \\\n",
    "    --o-visualization /mnt/zarrinpar/scratch/sfloresr/metatranscript/metatranscript/woltka2_results/ordination_deicode_TRFmetaT_biplot.qzv"
   ]
  },
  {
   "cell_type": "code",
   "execution_count": null,
   "metadata": {},
   "outputs": [],
   "source": [
    "qiime diversity beta-group-significance \\\n",
    "    --i-distance-matrix /mnt/zarrinpar/scratch/sfloresr/metatranscript/metatranscript/woltka2_results/beta_deicode_TRFmetaT_noNT.qza \\\n",
    "    --m-metadata-file /mnt/zarrinpar/scratch/sfloresr/metatranscript/metatranscript/woltka2_results/metaT_metadata_noNT.txt \\\n",
    "    --m-metadata-column condition \\\n",
    "    --p-method permanova \\\n",
    "    --p-pairwise \\\n",
    "    --o-visualization /mnt/zarrinpar/scratch/sfloresr/metatranscript/metatranscript/woltka2_results/beta_deicode_TRFmetaT_noNT-significanceCond.qzv"
   ]
  },
  {
   "cell_type": "code",
   "execution_count": null,
   "metadata": {},
   "outputs": [],
   "source": [
    "qiime diversity beta-group-significance \\\n",
    "    --i-distance-matrix /mnt/zarrinpar/scratch/sfloresr/TRF_multiomics/metatranscript/woltka2_m_results/pfam/rpca_results/distance_matrix.qza \\\n",
    "    --m-metadata-file /mnt/zarrinpar/scratch/sfloresr/TRF_multiomics/metatranscript/woltka2_m_results/metaT_metadata_ztcat_noNT.txt \\\n",
    "    --m-metadata-column cond_phase \\\n",
    "    --p-method permanova \\\n",
    "    --p-pairwise \\\n",
    "    --o-visualization /mnt/zarrinpar/scratch/sfloresr/TRF_multiomics/metatranscript/woltka2_m_results/pfam/rpca_results/condphase-significance.qzv"
   ]
  },
  {
   "cell_type": "code",
   "execution_count": null,
   "metadata": {},
   "outputs": [],
   "source": [
    "qiime diversity beta-group-significance \\\n",
    "    --i-distance-matrix /mnt/zarrinpar/scratch/sfloresr/TRF_multiomics/metatranscript/woltka2_m_results/pfam/rpca_results/distance_matrix.qza \\\n",
    "    --m-metadata-file /mnt/zarrinpar/scratch/sfloresr/TRF_multiomics/metatranscript/woltka2_m_results/metaT_metadata_ztcat_noNT.txt \\\n",
    "    --m-metadata-column cond_zt \\\n",
    "    --p-method permanova \\\n",
    "    --p-pairwise \\\n",
    "    --o-visualization /mnt/zarrinpar/scratch/sfloresr/TRF_multiomics/metatranscript/woltka2_m_results/pfam/rpca_results/condzt-significance.qzv"
   ]
  },
  {
   "cell_type": "code",
   "execution_count": null,
   "metadata": {},
   "outputs": [],
   "source": [
    "qiime diversity beta-group-significance \\\n",
    "    --i-distance-matrix /mnt/zarrinpar/scratch/sfloresr/metatranscript/metatranscript/woltka2_results/beta_deicode_TRFmetaT_noNT.qza \\\n",
    "    --m-metadata-file /mnt/zarrinpar/scratch/sfloresr/metatranscript/metatranscript/woltka2_results/metaT_metadata_noNT.txt \\\n",
    "    --m-metadata-column lightdark \\\n",
    "    --p-method permanova \\\n",
    "    --p-pairwise \\\n",
    "    --o-visualization /mnt/zarrinpar/scratch/sfloresr/metatranscript/metatranscript/woltka2_results/beta_deicode_TRFmetaT_noNT-significanceLD.qzv"
   ]
  },
  {
   "cell_type": "code",
   "execution_count": null,
   "metadata": {},
   "outputs": [],
   "source": [
    "qiime tools export \\\n",
    "    --input-path /mnt/zarrinpar/scratch/sfloresr/metatranscript/metatranscript/woltka2_results/beta_deicode_TRFmetaT_noNT.qza \\\n",
    "    --output-path /mnt/zarrinpar/scratch/sfloresr/metatranscript/metatranscript/woltka2_results/beta_deicode_TRFmetaT_noNT"
   ]
  },
  {
   "cell_type": "markdown",
   "metadata": {},
   "source": [
    "Visualize the biplot adding feature info"
   ]
  },
  {
   "cell_type": "code",
   "execution_count": 3,
   "metadata": {},
   "outputs": [
    {
     "data": {
      "text/html": [
       "<div>\n",
       "<style scoped>\n",
       "    .dataframe tbody tr th:only-of-type {\n",
       "        vertical-align: middle;\n",
       "    }\n",
       "\n",
       "    .dataframe tbody tr th {\n",
       "        vertical-align: top;\n",
       "    }\n",
       "\n",
       "    .dataframe thead th {\n",
       "        text-align: right;\n",
       "    }\n",
       "</style>\n",
       "<table border=\"1\" class=\"dataframe\">\n",
       "  <thead>\n",
       "    <tr style=\"text-align: right;\">\n",
       "      <th></th>\n",
       "      <th>Name</th>\n",
       "    </tr>\n",
       "    <tr>\n",
       "      <th>FeatureID</th>\n",
       "      <th></th>\n",
       "    </tr>\n",
       "  </thead>\n",
       "  <tbody>\n",
       "    <tr>\n",
       "      <th>PF00735.21</th>\n",
       "      <td>Septin</td>\n",
       "    </tr>\n",
       "    <tr>\n",
       "      <th>PF18762.4</th>\n",
       "      <td>Serine/Threonine/Tyrosine Kinase found in poly...</td>\n",
       "    </tr>\n",
       "  </tbody>\n",
       "</table>\n",
       "</div>"
      ],
      "text/plain": [
       "                                                         Name\n",
       "FeatureID                                                    \n",
       "PF00735.21                                             Septin\n",
       "PF18762.4   Serine/Threonine/Tyrosine Kinase found in poly..."
      ]
     },
     "execution_count": 3,
     "metadata": {},
     "output_type": "execute_result"
    }
   ],
   "source": [
    "# import the sample metadata\n",
    "mf = pd.read_csv('/mnt/zarrinpar/scratch/sfloresr/metatranscript/metatranscript/woltka2_results/metaT_metadata_noNT.txt',\n",
    "                 sep='\\t', index_col=0, keep_default_na=False)\n",
    "# import the taxonomy metadata\n",
    "tf = pd.read_csv('/mnt/zarrinpar/scratch/sfloresr/metatranscript/metatranscript/woltka2_results/pfam/pfam_annotationkey.csv',\n",
    "                index_col=0)\n",
    "tf.tail(2)"
   ]
  },
  {
   "cell_type": "code",
   "execution_count": 5,
   "metadata": {},
   "outputs": [
    {
     "data": {
      "text/html": [
       "<div>\n",
       "<style scoped>\n",
       "    .dataframe tbody tr th:only-of-type {\n",
       "        vertical-align: middle;\n",
       "    }\n",
       "\n",
       "    .dataframe tbody tr th {\n",
       "        vertical-align: top;\n",
       "    }\n",
       "\n",
       "    .dataframe thead th {\n",
       "        text-align: right;\n",
       "    }\n",
       "</style>\n",
       "<table border=\"1\" class=\"dataframe\">\n",
       "  <thead>\n",
       "    <tr style=\"text-align: right;\">\n",
       "      <th></th>\n",
       "      <th>PC1</th>\n",
       "      <th>PC2</th>\n",
       "      <th>PC3</th>\n",
       "    </tr>\n",
       "    <tr>\n",
       "      <th>SampleID</th>\n",
       "      <th></th>\n",
       "      <th></th>\n",
       "      <th></th>\n",
       "    </tr>\n",
       "  </thead>\n",
       "  <tbody>\n",
       "    <tr>\n",
       "      <th>cFA01a</th>\n",
       "      <td>-0.106114</td>\n",
       "      <td>0.121667</td>\n",
       "      <td>0.006666</td>\n",
       "    </tr>\n",
       "    <tr>\n",
       "      <th>cFA01b</th>\n",
       "      <td>-0.162095</td>\n",
       "      <td>-0.038116</td>\n",
       "      <td>-0.008753</td>\n",
       "    </tr>\n",
       "  </tbody>\n",
       "</table>\n",
       "</div>"
      ],
      "text/plain": [
       "               PC1       PC2       PC3\n",
       "SampleID                              \n",
       "cFA01a   -0.106114  0.121667  0.006666\n",
       "cFA01b   -0.162095 -0.038116 -0.008753"
      ]
     },
     "execution_count": 5,
     "metadata": {},
     "output_type": "execute_result"
    }
   ],
   "source": [
    "# the sample loadings\n",
    "#spca_df = ordination.samples\n",
    "#spca_df.head(2)\n",
    "\n",
    "spca_df = pd.read_csv('/home/sfloresr/scratch/metatranscript/metatranscript/woltka2_results/ordination_deicode_TRFmetaT_noNT/sample_ordination.txt',\n",
    "                 sep='\\t', index_col=0)\n",
    "spca_df.head(2)"
   ]
  },
  {
   "cell_type": "code",
   "execution_count": 6,
   "metadata": {},
   "outputs": [
    {
     "data": {
      "text/html": [
       "<div>\n",
       "<style scoped>\n",
       "    .dataframe tbody tr th:only-of-type {\n",
       "        vertical-align: middle;\n",
       "    }\n",
       "\n",
       "    .dataframe tbody tr th {\n",
       "        vertical-align: top;\n",
       "    }\n",
       "\n",
       "    .dataframe thead th {\n",
       "        text-align: right;\n",
       "    }\n",
       "</style>\n",
       "<table border=\"1\" class=\"dataframe\">\n",
       "  <thead>\n",
       "    <tr style=\"text-align: right;\">\n",
       "      <th></th>\n",
       "      <th>PC1</th>\n",
       "      <th>PC2</th>\n",
       "      <th>PC3</th>\n",
       "    </tr>\n",
       "    <tr>\n",
       "      <th>FeatureID</th>\n",
       "      <th></th>\n",
       "      <th></th>\n",
       "      <th></th>\n",
       "    </tr>\n",
       "  </thead>\n",
       "  <tbody>\n",
       "    <tr>\n",
       "      <th>PF20167.1</th>\n",
       "      <td>-0.010638</td>\n",
       "      <td>0.006036</td>\n",
       "      <td>-0.003925</td>\n",
       "    </tr>\n",
       "    <tr>\n",
       "      <th>PF20338.1</th>\n",
       "      <td>-0.006769</td>\n",
       "      <td>0.004260</td>\n",
       "      <td>-0.004534</td>\n",
       "    </tr>\n",
       "  </tbody>\n",
       "</table>\n",
       "</div>"
      ],
      "text/plain": [
       "                PC1       PC2       PC3\n",
       "FeatureID                              \n",
       "PF20167.1 -0.010638  0.006036 -0.003925\n",
       "PF20338.1 -0.006769  0.004260 -0.004534"
      ]
     },
     "execution_count": 6,
     "metadata": {},
     "output_type": "execute_result"
    }
   ],
   "source": [
    "# the feature loadings\n",
    "#fpca_df = ordination.features\n",
    "#fpca_df.reset_index(drop=True, inplace=True)\n",
    "\n",
    "fpca_df = pd.read_csv('/home/sfloresr/scratch/metatranscript/metatranscript/woltka2_results/ordination_deicode_TRFmetaT_noNT/feature_ordination.txt',\n",
    "                     sep='\\t', index_col=0)\n",
    "\n",
    "fpca_df.tail(2)"
   ]
  },
  {
   "cell_type": "code",
   "execution_count": 7,
   "metadata": {},
   "outputs": [
    {
     "data": {
      "text/html": [
       "<div>\n",
       "<style scoped>\n",
       "    .dataframe tbody tr th:only-of-type {\n",
       "        vertical-align: middle;\n",
       "    }\n",
       "\n",
       "    .dataframe tbody tr th {\n",
       "        vertical-align: top;\n",
       "    }\n",
       "\n",
       "    .dataframe thead th {\n",
       "        text-align: right;\n",
       "    }\n",
       "</style>\n",
       "<table border=\"1\" class=\"dataframe\">\n",
       "  <thead>\n",
       "    <tr style=\"text-align: right;\">\n",
       "      <th></th>\n",
       "      <th>PC1</th>\n",
       "      <th>PC2</th>\n",
       "      <th>PC3</th>\n",
       "      <th>organ</th>\n",
       "      <th>diet</th>\n",
       "      <th>schedule</th>\n",
       "      <th>zt_time</th>\n",
       "      <th>replicate</th>\n",
       "      <th>condition</th>\n",
       "      <th>lightdark</th>\n",
       "    </tr>\n",
       "    <tr>\n",
       "      <th>SampleID</th>\n",
       "      <th></th>\n",
       "      <th></th>\n",
       "      <th></th>\n",
       "      <th></th>\n",
       "      <th></th>\n",
       "      <th></th>\n",
       "      <th></th>\n",
       "      <th></th>\n",
       "      <th></th>\n",
       "      <th></th>\n",
       "    </tr>\n",
       "  </thead>\n",
       "  <tbody>\n",
       "    <tr>\n",
       "      <th>cFA01a</th>\n",
       "      <td>-0.106114</td>\n",
       "      <td>0.121667</td>\n",
       "      <td>0.006666</td>\n",
       "      <td>cecum</td>\n",
       "      <td>high fat diet</td>\n",
       "      <td>ad libitum</td>\n",
       "      <td>1</td>\n",
       "      <td>a</td>\n",
       "      <td>FA</td>\n",
       "      <td>light</td>\n",
       "    </tr>\n",
       "    <tr>\n",
       "      <th>cFA01b</th>\n",
       "      <td>-0.162095</td>\n",
       "      <td>-0.038116</td>\n",
       "      <td>-0.008753</td>\n",
       "      <td>cecum</td>\n",
       "      <td>high fat diet</td>\n",
       "      <td>ad libitum</td>\n",
       "      <td>1</td>\n",
       "      <td>b</td>\n",
       "      <td>FA</td>\n",
       "      <td>light</td>\n",
       "    </tr>\n",
       "  </tbody>\n",
       "</table>\n",
       "</div>"
      ],
      "text/plain": [
       "               PC1       PC2       PC3  organ           diet    schedule  \\\n",
       "SampleID                                                                   \n",
       "cFA01a   -0.106114  0.121667  0.006666  cecum  high fat diet  ad libitum   \n",
       "cFA01b   -0.162095 -0.038116 -0.008753  cecum  high fat diet  ad libitum   \n",
       "\n",
       "          zt_time replicate condition lightdark  \n",
       "SampleID                                         \n",
       "cFA01a          1         a        FA     light  \n",
       "cFA01b          1         b        FA     light  "
      ]
     },
     "execution_count": 7,
     "metadata": {},
     "output_type": "execute_result"
    }
   ],
   "source": [
    "# merge the sample metadata and loadings\n",
    "spca_df = pd.concat([spca_df, mf.reindex(spca_df.index)],\n",
    "                    axis=1, sort=True)\n",
    "spca_df['condition'].astype('category').cat.reorder_categories(['FT','FA','NA'], inplace=True)\n",
    "spca_df.head(2)"
   ]
  },
  {
   "cell_type": "code",
   "execution_count": 8,
   "metadata": {},
   "outputs": [
    {
     "data": {
      "text/html": [
       "<div>\n",
       "<style scoped>\n",
       "    .dataframe tbody tr th:only-of-type {\n",
       "        vertical-align: middle;\n",
       "    }\n",
       "\n",
       "    .dataframe tbody tr th {\n",
       "        vertical-align: top;\n",
       "    }\n",
       "\n",
       "    .dataframe thead th {\n",
       "        text-align: right;\n",
       "    }\n",
       "</style>\n",
       "<table border=\"1\" class=\"dataframe\">\n",
       "  <thead>\n",
       "    <tr style=\"text-align: right;\">\n",
       "      <th></th>\n",
       "      <th>PC1</th>\n",
       "      <th>PC2</th>\n",
       "      <th>PC3</th>\n",
       "      <th>Name</th>\n",
       "    </tr>\n",
       "    <tr>\n",
       "      <th>FeatureID</th>\n",
       "      <th></th>\n",
       "      <th></th>\n",
       "      <th></th>\n",
       "      <th></th>\n",
       "    </tr>\n",
       "  </thead>\n",
       "  <tbody>\n",
       "    <tr>\n",
       "      <th>PF20167.1</th>\n",
       "      <td>-0.010638</td>\n",
       "      <td>0.006036</td>\n",
       "      <td>-0.003925</td>\n",
       "      <td>Putative plant transposon protein</td>\n",
       "    </tr>\n",
       "    <tr>\n",
       "      <th>PF20338.1</th>\n",
       "      <td>-0.006769</td>\n",
       "      <td>0.004260</td>\n",
       "      <td>-0.004534</td>\n",
       "      <td>Family of unknown function (DUF6633)</td>\n",
       "    </tr>\n",
       "  </tbody>\n",
       "</table>\n",
       "</div>"
      ],
      "text/plain": [
       "                PC1       PC2       PC3                                  Name\n",
       "FeatureID                                                                    \n",
       "PF20167.1 -0.010638  0.006036 -0.003925     Putative plant transposon protein\n",
       "PF20338.1 -0.006769  0.004260 -0.004534  Family of unknown function (DUF6633)"
      ]
     },
     "execution_count": 8,
     "metadata": {},
     "output_type": "execute_result"
    }
   ],
   "source": [
    "# merge the feature metadata and loadings\n",
    "\n",
    "fpca_df = pd.concat([fpca_df, tf.reindex(fpca_df.index)],\n",
    "                    axis=1)\n",
    "fpca_df.tail(2)"
   ]
  },
  {
   "cell_type": "code",
   "execution_count": 9,
   "metadata": {},
   "outputs": [],
   "source": [
    "def biplot(axis1, axis2, sload, fload, hue, ax,\n",
    "           n_arrow= 20, cmap = 'Set1'):\n",
    "    \n",
    "    \"\"\"\n",
    "    This function is a helper for the tutorial. It\n",
    "    takes ordination inputs from the tutorial and\n",
    "    plots a compositional biplot.\n",
    "    \n",
    "    Parameters\n",
    "    ----------\n",
    "    axis1: str - first x-PC axis\n",
    "    axis2: str - second y-PC axis\n",
    "    \n",
    "    sload: pd.DataFrame - sample ordination\n",
    "    fload: pd.DataFrame - feature ordination\n",
    "    hue: str - subject groupings\n",
    "        \n",
    "    ax: matplitlib subplot\n",
    "    n_arrow: int - number of arrows to plot\n",
    "    level: int - taxonomic level to collapse\n",
    "    Returns\n",
    "    ----------\n",
    "    ax: matplitlib subplot\n",
    "    \"\"\"\n",
    "    # Create an array with the colors you want to use\n",
    "    colors = [\"#0072B2\",\"#D55E00\",\"#009E73\"]\n",
    "    # Set your custom color palette\n",
    "    sns.set_palette(sns.color_palette(colors))\n",
    "    \n",
    "    # sort the arrows by their PC1, PC2 mag.\n",
    "    fload['magnitude'] = np.linalg.norm(fload[[axis1, axis2]], axis=1)\n",
    "    fload = fload.sort_values('magnitude', ascending=False)\n",
    "    \n",
    "    # get cmap for arrows\n",
    "    arrow_cmap = set(fload.loc[fload.index[: n_arrow], 'Name'].values)\n",
    "    colors_ = plt.get_cmap(cmap, len(arrow_cmap))\n",
    "    arrow_cmap = {v:colors_(i) for i, v in enumerate(arrow_cmap)}\n",
    "    \n",
    "\n",
    " # plot the sample loadings\n",
    "    sns.scatterplot(axis1, axis2,\n",
    "                    data = sload,\n",
    "                    hue = hue,\n",
    "                    hue_order = ['FT', 'FA', 'NA'],\n",
    "                    palette=colors,\n",
    "                    ax=ax,\n",
    "                    s=100)\n",
    "    \n",
    "    # plot the arrows\n",
    "    legend_arrows = {}\n",
    "    for i in range(n_arrow):\n",
    "        # add arrow\n",
    "        ind_ = fload.index[i]\n",
    "        arrow_  = ax.arrow(0, 0, fload.loc[ind_, axis1],\n",
    "                        fload.loc[ind_, axis2],\n",
    "                        color=arrow_cmap[fload.loc[ind_, 'Name']],\n",
    "                        width=0.001, head_width=0.005)\n",
    "        legend_arrows[fload.loc[ind_, 'Name']] = arrow_\n",
    "    \n",
    "    # add legend\n",
    "    leg1 = ax.legend(loc='center left',\n",
    "                     bbox_to_anchor=(1, .8),\n",
    "                     title=\"condition (dots)\")\n",
    "    ax.legend(list(legend_arrows.values()),\n",
    "              list(legend_arrows.keys()), \n",
    "              loc='center left',\n",
    "              bbox_to_anchor=(1, 0.5),\n",
    "              title=\"genes (arrows)\")\n",
    "    ax.add_artist(leg1)\n",
    "    \n",
    "    #modify individual font size of elements\n",
    "    #ax.tick_params(axis='both', which='major', labelsize=0.5)\n",
    "        \n",
    "    return ax"
   ]
  },
  {
   "cell_type": "code",
   "execution_count": 10,
   "metadata": {},
   "outputs": [
    {
     "name": "stderr",
     "output_type": "stream",
     "text": [
      "/opt/anaconda3/envs/qiime2-2022.2/lib/python3.8/site-packages/seaborn/_decorators.py:36: FutureWarning: Pass the following variables as keyword args: x, y. From version 0.12, the only valid positional argument will be `data`, and passing other arguments without an explicit keyword will result in an error or misinterpretation.\n",
      "  warnings.warn(\n"
     ]
    },
    {
     "data": {
      "image/png": "[encoded data removed]",
      "text/plain": [
       "<Figure size 576x648 with 1 Axes>"
      ]
     },
     "metadata": {
      "needs_background": "light"
     },
     "output_type": "display_data"
    }
   ],
   "source": [
    "import pandas as pd\n",
    "import numpy as np\n",
    "import seaborn as sns\n",
    "from matplotlib import pyplot as plt\n",
    "%matplotlib inline\n",
    "\n",
    "fig, ax = plt.subplots(1,1, figsize=(8, 9))\n",
    "\n",
    "# plot the biplot\n",
    "ax = biplot('PC1', 'PC2', spca_df,\n",
    "            fpca_df, 'condition', ax)\n",
    "\n",
    "plt.show()\n",
    "#plt.savefig('/mnt/zarrinpar/scratch/sfloresr/HE/HE_metab/liverpath/diversity_metrics_LCMS/SFR22_0304_biplot_perifAll_warrows.pdf',\n",
    "#            dpi=300,bbox_inches='tight')"
   ]
  },
  {
   "cell_type": "code",
   "execution_count": null,
   "metadata": {},
   "outputs": [],
   "source": [
    "qiime qurro loading-plot \\\n",
    "    --i-table /mnt/zarrinpar/scratch/sfloresr/metatranscript/metatranscript/woltka2_results/pfam/pfam_clean_noNT.qza \\\n",
    "    --i-ranks /mnt/zarrinpar/scratch/sfloresr/metatranscript/metatranscript/woltka2_results/ordination_deicode_TRFmetaT_noNT.qza \\\n",
    "    --m-sample-metadata-file /mnt/zarrinpar/scratch/sfloresr/metatranscript/metatranscript/woltka2_results/metaT_metadata_noNT.txt \\\n",
    "    --m-feature-metadata-file /mnt/zarrinpar/scratch/sfloresr/metatranscript/metatranscript/woltka2_results/pfam/pfam_annotationkey_wGO.txt \\\n",
    "    --o-visualization /mnt/zarrinpar/scratch/sfloresr/metatranscript/metatranscript/woltka2_results/qurro_deicode_TRFmetaT_noNT.qzv"
   ]
  },
  {
   "cell_type": "markdown",
   "metadata": {},
   "source": [
    "### cycling only features"
   ]
  },
  {
   "cell_type": "code",
   "execution_count": null,
   "metadata": {},
   "outputs": [],
   "source": [
    "biom convert \\\n",
    "-i /mnt/zarrinpar/scratch/sfloresr/metatranscript/metatranscript/woltka2_results/pfam/pfam_cyc_clean_noNT.txt \\\n",
    "-o /mnt/zarrinpar/scratch/sfloresr/metatranscript/metatranscript/woltka2_results/pfam/pfam_cyc_clean_noNT.biom \\\n",
    "--table-type=\"OTU table\" \\\n",
    "--to-hdf5\n",
    "\n",
    "qiime tools import \\\n",
    "--input-path /mnt/zarrinpar/scratch/sfloresr/metatranscript/metatranscript/woltka2_results/pfam/pfam_cyc_clean_noNT.biom \\\n",
    "--output-path /mnt/zarrinpar/scratch/sfloresr/metatranscript/metatranscript/woltka2_results/pfam/pfam_cyc_clean_noNT.qza \\\n",
    "--type FeatureTable[Frequency]"
   ]
  },
  {
   "cell_type": "code",
   "execution_count": null,
   "metadata": {},
   "outputs": [],
   "source": [
    "qiime deicode rpca \\\n",
    "    --i-table /mnt/zarrinpar/scratch/sfloresr/metatranscript/metatranscript/woltka2_results/pfam/pfam_cyc_clean_noNT.qza \\\n",
    "    --p-min-feature-count 15 \\\n",
    "    --p-min-sample-count 500 \\\n",
    "    --o-biplot /mnt/zarrinpar/scratch/sfloresr/metatranscript/metatranscript/woltka2_results/aidan_wol2_cyclic_analysis/cycling_diversity/ordination_deicode_TRFmetaT_cyc_noNT.qza \\\n",
    "    --o-distance-matrix /mnt/zarrinpar/scratch/sfloresr/metatranscript/metatranscript/woltka2_results//aidan_wol2_cyclic_analysis/cycling_diversity/beta_deicode_TRFmetaT_cyc_noNT.qza"
   ]
  },
  {
   "cell_type": "code",
   "execution_count": null,
   "metadata": {},
   "outputs": [],
   "source": [
    "qiime emperor biplot \\\n",
    "    --i-biplot /mnt/zarrinpar/scratch/sfloresr/metatranscript/metatranscript/woltka2_results/aidan_wol2_cyclic_analysis/cycling_diversity/ordination_deicode_TRFmetaT_cyc_noNT.qza \\\n",
    "    --m-sample-metadata-file /mnt/zarrinpar/scratch/sfloresr/metatranscript/metatranscript/woltka2_results/metaT_metadata_noNT.txt \\\n",
    "    --p-ignore-missing-samples \\\n",
    "    --o-visualization /mnt/zarrinpar/scratch/sfloresr/metatranscript/metatranscript/woltka2_results/aidan_wol2_cyclic_analysis/cycling_diversity/ordination_deicode_TRFmetaT_cyc_biplot.qzv"
   ]
  },
  {
   "cell_type": "code",
   "execution_count": null,
   "metadata": {},
   "outputs": [],
   "source": [
    "qiime diversity beta-group-significance \\\n",
    "    --i-distance-matrix /mnt/zarrinpar/scratch/sfloresr/metatranscript/metatranscript/woltka2_results/aidan_wol2_cyclic_analysis/cycling_diversity/beta_deicode_TRFmetaT_cyc_noNT.qza \\\n",
    "    --m-metadata-file /mnt/zarrinpar/scratch/sfloresr/metatranscript/metatranscript/woltka2_results/metaT_metadata_noNT.txt \\\n",
    "    --m-metadata-column condition \\\n",
    "    --p-method permanova \\\n",
    "    --p-pairwise \\\n",
    "    --o-visualization /mnt/zarrinpar/scratch/sfloresr/metatranscript/metatranscript/woltka2_results/aidan_wol2_cyclic_analysis/cycling_diversity/beta_deicode_TRFmetaT_cyc_noNT-significanceCond.qzv"
   ]
  },
  {
   "cell_type": "code",
   "execution_count": null,
   "metadata": {},
   "outputs": [],
   "source": [
    "qiime diversity beta-group-significance \\\n",
    "    --i-distance-matrix /mnt/zarrinpar/scratch/sfloresr/metatranscript/metatranscript/woltka2_results/aidan_wol2_cyclic_analysis/cycling_diversity/beta_deicode_TRFmetaT_cyc_noNT.qza \\\n",
    "    --m-metadata-file /mnt/zarrinpar/scratch/sfloresr/metatranscript/metatranscript/woltka2_results/metaT_metadata_noNT.txt \\\n",
    "    --m-metadata-column lightdark \\\n",
    "    --p-method permanova \\\n",
    "    --p-pairwise \\\n",
    "    --o-visualization /mnt/zarrinpar/scratch/sfloresr/metatranscript/metatranscript/woltka2_results/aidan_wol2_cyclic_analysis/cycling_diversity/beta_deicode_TRFmetaT_cyc_noNT-significanceLD.qzv"
   ]
  },
  {
   "cell_type": "code",
   "execution_count": null,
   "metadata": {},
   "outputs": [],
   "source": [
    "qiime tools export \\\n",
    "    --input-path /mnt/zarrinpar/scratch/sfloresr/metatranscript/metatranscript/woltka2_results/aidan_wol2_cyclic_analysis/cycling_diversity/beta_deicode_TRFmetaT_cyc_noNT.qza \\\n",
    "    --output-path /mnt/zarrinpar/scratch/sfloresr/metatranscript/metatranscript/woltka2_results/aidan_wol2_cyclic_analysis/cycling_diversity/beta_deicode_TRFmetaT_cyc_noNT"
   ]
  },
  {
   "cell_type": "markdown",
   "metadata": {},
   "source": [
    "Visualize the biplot adding feature info"
   ]
  },
  {
   "cell_type": "code",
   "execution_count": 3,
   "metadata": {},
   "outputs": [
    {
     "data": {
      "text/html": [
       "<div>\n",
       "<style scoped>\n",
       "    .dataframe tbody tr th:only-of-type {\n",
       "        vertical-align: middle;\n",
       "    }\n",
       "\n",
       "    .dataframe tbody tr th {\n",
       "        vertical-align: top;\n",
       "    }\n",
       "\n",
       "    .dataframe thead th {\n",
       "        text-align: right;\n",
       "    }\n",
       "</style>\n",
       "<table border=\"1\" class=\"dataframe\">\n",
       "  <thead>\n",
       "    <tr style=\"text-align: right;\">\n",
       "      <th></th>\n",
       "      <th>Name</th>\n",
       "    </tr>\n",
       "    <tr>\n",
       "      <th>FeatureID</th>\n",
       "      <th></th>\n",
       "    </tr>\n",
       "  </thead>\n",
       "  <tbody>\n",
       "    <tr>\n",
       "      <th>PF00735.21</th>\n",
       "      <td>Septin</td>\n",
       "    </tr>\n",
       "    <tr>\n",
       "      <th>PF18762.4</th>\n",
       "      <td>Serine/Threonine/Tyrosine Kinase found in poly...</td>\n",
       "    </tr>\n",
       "  </tbody>\n",
       "</table>\n",
       "</div>"
      ],
      "text/plain": [
       "                                                         Name\n",
       "FeatureID                                                    \n",
       "PF00735.21                                             Septin\n",
       "PF18762.4   Serine/Threonine/Tyrosine Kinase found in poly..."
      ]
     },
     "execution_count": 3,
     "metadata": {},
     "output_type": "execute_result"
    }
   ],
   "source": [
    "# import the sample metadata\n",
    "mf = pd.read_csv('/mnt/zarrinpar/scratch/sfloresr/metatranscript/metatranscript/woltka2_results/metaT_metadata_noNT.txt',\n",
    "                 sep='\\t', index_col=0, keep_default_na=False)\n",
    "# import the taxonomy metadata\n",
    "tf = pd.read_csv('/mnt/zarrinpar/scratch/sfloresr/metatranscript/metatranscript/woltka2_results/pfam/pfam_annotationkey.csv',\n",
    "                index_col=0)\n",
    "tf.tail(2)"
   ]
  },
  {
   "cell_type": "code",
   "execution_count": 4,
   "metadata": {},
   "outputs": [
    {
     "data": {
      "text/html": [
       "<div>\n",
       "<style scoped>\n",
       "    .dataframe tbody tr th:only-of-type {\n",
       "        vertical-align: middle;\n",
       "    }\n",
       "\n",
       "    .dataframe tbody tr th {\n",
       "        vertical-align: top;\n",
       "    }\n",
       "\n",
       "    .dataframe thead th {\n",
       "        text-align: right;\n",
       "    }\n",
       "</style>\n",
       "<table border=\"1\" class=\"dataframe\">\n",
       "  <thead>\n",
       "    <tr style=\"text-align: right;\">\n",
       "      <th></th>\n",
       "      <th>PC1</th>\n",
       "      <th>PC2</th>\n",
       "      <th>PC3</th>\n",
       "    </tr>\n",
       "    <tr>\n",
       "      <th>SampleID</th>\n",
       "      <th></th>\n",
       "      <th></th>\n",
       "      <th></th>\n",
       "    </tr>\n",
       "  </thead>\n",
       "  <tbody>\n",
       "    <tr>\n",
       "      <th>cFA01a</th>\n",
       "      <td>-0.121637</td>\n",
       "      <td>0.085014</td>\n",
       "      <td>0.058776</td>\n",
       "    </tr>\n",
       "    <tr>\n",
       "      <th>cFA01b</th>\n",
       "      <td>-0.153470</td>\n",
       "      <td>-0.097374</td>\n",
       "      <td>0.031763</td>\n",
       "    </tr>\n",
       "  </tbody>\n",
       "</table>\n",
       "</div>"
      ],
      "text/plain": [
       "               PC1       PC2       PC3\n",
       "SampleID                              \n",
       "cFA01a   -0.121637  0.085014  0.058776\n",
       "cFA01b   -0.153470 -0.097374  0.031763"
      ]
     },
     "execution_count": 4,
     "metadata": {},
     "output_type": "execute_result"
    }
   ],
   "source": [
    "# the sample loadings\n",
    "#spca_df = ordination.samples\n",
    "#spca_df.head(2)\n",
    "\n",
    "spca_df = pd.read_csv('/home/sfloresr/scratch/metatranscript/metatranscript/woltka2_results/aidan_wol2_cyclic_analysis/cycling_diversity/ordination_deicode_TRFmetaT_cyc_noNT/sample_ordination.txt',\n",
    "                 sep='\\t', index_col=0)\n",
    "spca_df.head(2)"
   ]
  },
  {
   "cell_type": "code",
   "execution_count": 5,
   "metadata": {},
   "outputs": [
    {
     "data": {
      "text/html": [
       "<div>\n",
       "<style scoped>\n",
       "    .dataframe tbody tr th:only-of-type {\n",
       "        vertical-align: middle;\n",
       "    }\n",
       "\n",
       "    .dataframe tbody tr th {\n",
       "        vertical-align: top;\n",
       "    }\n",
       "\n",
       "    .dataframe thead th {\n",
       "        text-align: right;\n",
       "    }\n",
       "</style>\n",
       "<table border=\"1\" class=\"dataframe\">\n",
       "  <thead>\n",
       "    <tr style=\"text-align: right;\">\n",
       "      <th></th>\n",
       "      <th>PC1</th>\n",
       "      <th>PC2</th>\n",
       "      <th>PC3</th>\n",
       "    </tr>\n",
       "    <tr>\n",
       "      <th>FeatureID</th>\n",
       "      <th></th>\n",
       "      <th></th>\n",
       "      <th></th>\n",
       "    </tr>\n",
       "  </thead>\n",
       "  <tbody>\n",
       "    <tr>\n",
       "      <th>PF19512.2</th>\n",
       "      <td>0.011064</td>\n",
       "      <td>-0.011097</td>\n",
       "      <td>-0.007802</td>\n",
       "    </tr>\n",
       "    <tr>\n",
       "      <th>PF20338.1</th>\n",
       "      <td>-0.022117</td>\n",
       "      <td>-0.005439</td>\n",
       "      <td>-0.017722</td>\n",
       "    </tr>\n",
       "  </tbody>\n",
       "</table>\n",
       "</div>"
      ],
      "text/plain": [
       "                PC1       PC2       PC3\n",
       "FeatureID                              \n",
       "PF19512.2  0.011064 -0.011097 -0.007802\n",
       "PF20338.1 -0.022117 -0.005439 -0.017722"
      ]
     },
     "execution_count": 5,
     "metadata": {},
     "output_type": "execute_result"
    }
   ],
   "source": [
    "# the feature loadings\n",
    "#fpca_df = ordination.features\n",
    "#fpca_df.reset_index(drop=True, inplace=True)\n",
    "\n",
    "fpca_df = pd.read_csv('/home/sfloresr/scratch/metatranscript/metatranscript/woltka2_results/aidan_wol2_cyclic_analysis/cycling_diversity/ordination_deicode_TRFmetaT_cyc_noNT/feature_ordination.txt',\n",
    "                     sep='\\t', index_col=0)\n",
    "\n",
    "fpca_df.tail(2)"
   ]
  },
  {
   "cell_type": "code",
   "execution_count": 6,
   "metadata": {},
   "outputs": [
    {
     "data": {
      "text/html": [
       "<div>\n",
       "<style scoped>\n",
       "    .dataframe tbody tr th:only-of-type {\n",
       "        vertical-align: middle;\n",
       "    }\n",
       "\n",
       "    .dataframe tbody tr th {\n",
       "        vertical-align: top;\n",
       "    }\n",
       "\n",
       "    .dataframe thead th {\n",
       "        text-align: right;\n",
       "    }\n",
       "</style>\n",
       "<table border=\"1\" class=\"dataframe\">\n",
       "  <thead>\n",
       "    <tr style=\"text-align: right;\">\n",
       "      <th></th>\n",
       "      <th>PC1</th>\n",
       "      <th>PC2</th>\n",
       "      <th>PC3</th>\n",
       "      <th>organ</th>\n",
       "      <th>diet</th>\n",
       "      <th>schedule</th>\n",
       "      <th>zt_time</th>\n",
       "      <th>replicate</th>\n",
       "      <th>condition</th>\n",
       "      <th>lightdark</th>\n",
       "    </tr>\n",
       "    <tr>\n",
       "      <th>SampleID</th>\n",
       "      <th></th>\n",
       "      <th></th>\n",
       "      <th></th>\n",
       "      <th></th>\n",
       "      <th></th>\n",
       "      <th></th>\n",
       "      <th></th>\n",
       "      <th></th>\n",
       "      <th></th>\n",
       "      <th></th>\n",
       "    </tr>\n",
       "  </thead>\n",
       "  <tbody>\n",
       "    <tr>\n",
       "      <th>cFA01a</th>\n",
       "      <td>-0.121637</td>\n",
       "      <td>0.085014</td>\n",
       "      <td>0.058776</td>\n",
       "      <td>cecum</td>\n",
       "      <td>high fat diet</td>\n",
       "      <td>ad libitum</td>\n",
       "      <td>1</td>\n",
       "      <td>a</td>\n",
       "      <td>FA</td>\n",
       "      <td>light</td>\n",
       "    </tr>\n",
       "    <tr>\n",
       "      <th>cFA01b</th>\n",
       "      <td>-0.153470</td>\n",
       "      <td>-0.097374</td>\n",
       "      <td>0.031763</td>\n",
       "      <td>cecum</td>\n",
       "      <td>high fat diet</td>\n",
       "      <td>ad libitum</td>\n",
       "      <td>1</td>\n",
       "      <td>b</td>\n",
       "      <td>FA</td>\n",
       "      <td>light</td>\n",
       "    </tr>\n",
       "  </tbody>\n",
       "</table>\n",
       "</div>"
      ],
      "text/plain": [
       "               PC1       PC2       PC3  organ           diet    schedule  \\\n",
       "SampleID                                                                   \n",
       "cFA01a   -0.121637  0.085014  0.058776  cecum  high fat diet  ad libitum   \n",
       "cFA01b   -0.153470 -0.097374  0.031763  cecum  high fat diet  ad libitum   \n",
       "\n",
       "          zt_time replicate condition lightdark  \n",
       "SampleID                                         \n",
       "cFA01a          1         a        FA     light  \n",
       "cFA01b          1         b        FA     light  "
      ]
     },
     "execution_count": 6,
     "metadata": {},
     "output_type": "execute_result"
    }
   ],
   "source": [
    "# merge the sample metadata and loadings\n",
    "spca_df = pd.concat([spca_df, mf.reindex(spca_df.index)],\n",
    "                    axis=1, sort=True)\n",
    "spca_df['condition'].astype('category').cat.reorder_categories(['FT','FA','NA'], inplace=True)\n",
    "spca_df.head(2)"
   ]
  },
  {
   "cell_type": "code",
   "execution_count": 7,
   "metadata": {},
   "outputs": [
    {
     "data": {
      "text/html": [
       "<div>\n",
       "<style scoped>\n",
       "    .dataframe tbody tr th:only-of-type {\n",
       "        vertical-align: middle;\n",
       "    }\n",
       "\n",
       "    .dataframe tbody tr th {\n",
       "        vertical-align: top;\n",
       "    }\n",
       "\n",
       "    .dataframe thead th {\n",
       "        text-align: right;\n",
       "    }\n",
       "</style>\n",
       "<table border=\"1\" class=\"dataframe\">\n",
       "  <thead>\n",
       "    <tr style=\"text-align: right;\">\n",
       "      <th></th>\n",
       "      <th>PC1</th>\n",
       "      <th>PC2</th>\n",
       "      <th>PC3</th>\n",
       "      <th>Name</th>\n",
       "    </tr>\n",
       "    <tr>\n",
       "      <th>FeatureID</th>\n",
       "      <th></th>\n",
       "      <th></th>\n",
       "      <th></th>\n",
       "      <th></th>\n",
       "    </tr>\n",
       "  </thead>\n",
       "  <tbody>\n",
       "    <tr>\n",
       "      <th>PF19512.2</th>\n",
       "      <td>0.011064</td>\n",
       "      <td>-0.011097</td>\n",
       "      <td>-0.007802</td>\n",
       "      <td>Domain of unknown function (DUF6046)</td>\n",
       "    </tr>\n",
       "    <tr>\n",
       "      <th>PF20338.1</th>\n",
       "      <td>-0.022117</td>\n",
       "      <td>-0.005439</td>\n",
       "      <td>-0.017722</td>\n",
       "      <td>Family of unknown function (DUF6633)</td>\n",
       "    </tr>\n",
       "  </tbody>\n",
       "</table>\n",
       "</div>"
      ],
      "text/plain": [
       "                PC1       PC2       PC3                                  Name\n",
       "FeatureID                                                                    \n",
       "PF19512.2  0.011064 -0.011097 -0.007802  Domain of unknown function (DUF6046)\n",
       "PF20338.1 -0.022117 -0.005439 -0.017722  Family of unknown function (DUF6633)"
      ]
     },
     "execution_count": 7,
     "metadata": {},
     "output_type": "execute_result"
    }
   ],
   "source": [
    "# merge the feature metadata and loadings\n",
    "\n",
    "fpca_df = pd.concat([fpca_df, tf.reindex(fpca_df.index)],\n",
    "                    axis=1)\n",
    "fpca_df.tail(2)"
   ]
  },
  {
   "cell_type": "code",
   "execution_count": 8,
   "metadata": {},
   "outputs": [],
   "source": [
    "def biplot(axis1, axis2, sload, fload, hue, ax,\n",
    "           n_arrow= 20, cmap = 'Set1'):\n",
    "    \n",
    "    \"\"\"\n",
    "    This function is a helper for the tutorial. It\n",
    "    takes ordination inputs from the tutorial and\n",
    "    plots a compositional biplot.\n",
    "    \n",
    "    Parameters\n",
    "    ----------\n",
    "    axis1: str - first x-PC axis\n",
    "    axis2: str - second y-PC axis\n",
    "    \n",
    "    sload: pd.DataFrame - sample ordination\n",
    "    fload: pd.DataFrame - feature ordination\n",
    "    hue: str - subject groupings\n",
    "        \n",
    "    ax: matplitlib subplot\n",
    "    n_arrow: int - number of arrows to plot\n",
    "    level: int - taxonomic level to collapse\n",
    "    Returns\n",
    "    ----------\n",
    "    ax: matplitlib subplot\n",
    "    \"\"\"\n",
    "    # Create an array with the colors you want to use\n",
    "    colors = [\"#0072B2\",\"#D55E00\",\"#009E73\"]\n",
    "    # Set your custom color palette\n",
    "    sns.set_palette(sns.color_palette(colors))\n",
    "    \n",
    "    # sort the arrows by their PC1, PC2 mag.\n",
    "    fload['magnitude'] = np.linalg.norm(fload[[axis1, axis2]], axis=1)\n",
    "    fload = fload.sort_values('magnitude', ascending=False)\n",
    "    \n",
    "    # get cmap for arrows\n",
    "    arrow_cmap = set(fload.loc[fload.index[: n_arrow], 'Name'].values)\n",
    "    colors_ = plt.get_cmap(cmap, len(arrow_cmap))\n",
    "    arrow_cmap = {v:colors_(i) for i, v in enumerate(arrow_cmap)}\n",
    "    \n",
    "\n",
    " # plot the sample loadings\n",
    "    sns.scatterplot(axis1, axis2,\n",
    "                    data = sload,\n",
    "                    hue = hue,\n",
    "                    hue_order = ['FT', 'FA', 'NA'],\n",
    "                    palette=colors,\n",
    "                    ax=ax,\n",
    "                    s=100)\n",
    "    \n",
    "    # plot the arrows\n",
    "    legend_arrows = {}\n",
    "    for i in range(n_arrow):\n",
    "        # add arrow\n",
    "        ind_ = fload.index[i]\n",
    "        arrow_  = ax.arrow(0, 0, fload.loc[ind_, axis1],\n",
    "                        fload.loc[ind_, axis2],\n",
    "                        color=arrow_cmap[fload.loc[ind_, 'Name']],\n",
    "                        width=0.001, head_width=0.005)\n",
    "        legend_arrows[fload.loc[ind_, 'Name']] = arrow_\n",
    "    \n",
    "    # add legend\n",
    "    leg1 = ax.legend(loc='center left',\n",
    "                     bbox_to_anchor=(1, .8),\n",
    "                     title=\"condition (dots)\")\n",
    "    ax.legend(list(legend_arrows.values()),\n",
    "              list(legend_arrows.keys()), \n",
    "              loc='center left',\n",
    "              bbox_to_anchor=(1, 0.5),\n",
    "              title=\"genes (arrows)\")\n",
    "    ax.add_artist(leg1)\n",
    "    \n",
    "    #modify individual font size of elements\n",
    "    #ax.tick_params(axis='both', which='major', labelsize=0.5)\n",
    "        \n",
    "    return ax"
   ]
  },
  {
   "cell_type": "code",
   "execution_count": 9,
   "metadata": {},
   "outputs": [
    {
     "name": "stderr",
     "output_type": "stream",
     "text": [
      "/opt/anaconda3/envs/qiime2-2022.2/lib/python3.8/site-packages/seaborn/_decorators.py:36: FutureWarning: Pass the following variables as keyword args: x, y. From version 0.12, the only valid positional argument will be `data`, and passing other arguments without an explicit keyword will result in an error or misinterpretation.\n",
      "  warnings.warn(\n"
     ]
    },
    {
     "data": {
      "image/png": "[encoded data removed]",
      "text/plain": [
       "<Figure size 576x648 with 1 Axes>"
      ]
     },
     "metadata": {
      "needs_background": "light"
     },
     "output_type": "display_data"
    }
   ],
   "source": [
    "import pandas as pd\n",
    "import numpy as np\n",
    "import seaborn as sns\n",
    "from matplotlib import pyplot as plt\n",
    "%matplotlib inline\n",
    "\n",
    "fig, ax = plt.subplots(1,1, figsize=(8, 9))\n",
    "\n",
    "# plot the biplot\n",
    "ax = biplot('PC1', 'PC2', spca_df,\n",
    "            fpca_df, 'condition', ax)\n",
    "\n",
    "plt.show()\n",
    "#plt.savefig('/mnt/zarrinpar/scratch/sfloresr/HE/HE_metab/liverpath/diversity_metrics_LCMS/SFR22_0304_biplot_perifAll_warrows.pdf',\n",
    "#            dpi=300,bbox_inches='tight')"
   ]
  },
  {
   "cell_type": "code",
   "execution_count": null,
   "metadata": {},
   "outputs": [],
   "source": [
    "qiime qurro loading-plot \\\n",
    "    --i-table /mnt/zarrinpar/scratch/sfloresr/metatranscript/metatranscript/woltka2_results/pfam/pfam_cyc_clean_noNT.qza \\\n",
    "    --i-ranks /mnt/zarrinpar/scratch/sfloresr/metatranscript/metatranscript/woltka2_results/aidan_wol2_cyclic_analysis/cycling_diversity/ordination_deicode_TRFmetaT_cyc_noNT.qza \\\n",
    "    --m-sample-metadata-file /mnt/zarrinpar/scratch/sfloresr/metatranscript/metatranscript/woltka2_results/metaT_metadata_noNT.txt \\\n",
    "    --m-feature-metadata-file /mnt/zarrinpar/scratch/sfloresr/metatranscript/metatranscript/woltka2_results/pfam/pfam_annotationkey_wGO.txt \\\n",
    "    --o-visualization /mnt/zarrinpar/scratch/sfloresr/metatranscript/metatranscript/woltka2_results/aidan_wol2_cyclic_analysis/cycling_diversity/qurro_deicode_cyc.qzv"
   ]
  },
  {
   "cell_type": "markdown",
   "metadata": {},
   "source": [
    "## Songbird Analysis ##"
   ]
  },
  {
   "cell_type": "markdown",
   "metadata": {},
   "source": [
    "**FA vs. FT**"
   ]
  },
  {
   "cell_type": "code",
   "execution_count": null,
   "metadata": {},
   "outputs": [],
   "source": [
    "biom convert \\\n",
    "    -i /mnt/zarrinpar/scratch/sfloresr/metatranscript/metatranscript/woltka2_results/pfam/pfam_FAFT.txt\\\n",
    "    -o /mnt/zarrinpar/scratch/sfloresr/metatranscript/metatranscript/woltka2_results/pfam/pfam_FAFT.biom \\\n",
    "    --table-type=\"OTU table\" \\\n",
    "    --to-hdf5\n",
    "\n",
    "qiime tools import \\\n",
    "    --input-path /mnt/zarrinpar/scratch/sfloresr/metatranscript/metatranscript/woltka2_results/pfam/pfam_FAFT.biom \\\n",
    "    --output-path /mnt/zarrinpar/scratch/sfloresr/metatranscript/metatranscript/woltka2_results/pfam/pfam_FAFT.qza \\\n",
    "    --type FeatureTable[Frequency]"
   ]
  },
  {
   "cell_type": "markdown",
   "metadata": {},
   "source": [
    "now we load the biom into qiime"
   ]
  },
  {
   "cell_type": "code",
   "execution_count": null,
   "metadata": {},
   "outputs": [],
   "source": [
    "qiime songbird multinomial \\\n",
    "  --i-table /mnt/zarrinpar/scratch/sfloresr/metatranscript/metatranscript/woltka2_results/pfam/pfam_FAFT.qza \\\n",
    "  --m-metadata-file /mnt/zarrinpar/scratch/sfloresr/metatranscript/metatranscript/woltka2_results/metaT_FAFT_metadata.txt \\\n",
    "  --p-formula \"C(condition, Treatment('FA'))\" \\\n",
    "  --p-epochs 5000 \\\n",
    "  --p-differential-prior 1 \\\n",
    "  --p-summary-interval 1 \\\n",
    "  --o-differentials /mnt/zarrinpar/scratch/sfloresr/metatranscript/metatranscript/woltka2_results/songbird/differentials_FAFT_conditionOnly.qza \\\n",
    "  --o-regression-stats /mnt/zarrinpar/scratch/sfloresr/metatranscript/metatranscript/woltka2_results/songbird/regression-stats_FAFT_conditionOnly.qza \\\n",
    "  --o-regression-biplot /mnt/zarrinpar/scratch/sfloresr/metatranscript/metatranscript/woltka2_results/songbird/regression-biplot_FAFT_conditionOnly.qza"
   ]
  },
  {
   "cell_type": "code",
   "execution_count": null,
   "metadata": {},
   "outputs": [],
   "source": [
    "qiime songbird multinomial \\\n",
    "  --i-table /mnt/zarrinpar/scratch/sfloresr/metatranscript/metatranscript/woltka2_results/pfam/pfam_FAFT.qza \\\n",
    "  --m-metadata-file /mnt/zarrinpar/scratch/sfloresr/metatranscript/metatranscript/woltka2_results/metaT_FAFT_metadata.txt \\\n",
    "  --p-formula \"1\" \\\n",
    "  --p-epochs 5000 \\\n",
    "  --p-differential-prior 1 \\\n",
    "  --p-summary-interval 1 \\\n",
    "  --o-differentials /mnt/zarrinpar/scratch/sfloresr/metatranscript/metatranscript/woltka2_results/songbird/null_differentials_FAFT_conditionOnly.qza \\\n",
    "  --o-regression-stats /mnt/zarrinpar/scratch/sfloresr/metatranscript/metatranscript/woltka2_results/songbird/null-stats_FAFT_conditionOnly.qza \\\n",
    "  --o-regression-biplot /mnt/zarrinpar/scratch/sfloresr/metatranscript/metatranscript/woltka2_results/songbird/null-biplot_FAFT_conditionOnly.qza"
   ]
  },
  {
   "cell_type": "code",
   "execution_count": null,
   "metadata": {},
   "outputs": [],
   "source": [
    "qiime songbird summarize-paired \\\n",
    "\t--i-regression-stats /mnt/zarrinpar/scratch/sfloresr/metatranscript/metatranscript/woltka2_results/songbird/regression-stats_FAFT_conditionOnly.qza \\\n",
    "\t--i-baseline-stats /mnt/zarrinpar/scratch/sfloresr/metatranscript/metatranscript/woltka2_results/songbird/null-stats_FAFT_conditionOnly.qza \\\n",
    "\t--o-visualization /mnt/zarrinpar/scratch/sfloresr/metatranscript/metatranscript/woltka2_results/songbird/paired-summary-FAFT_conditionOnly.qzv"
   ]
  },
  {
   "cell_type": "markdown",
   "metadata": {},
   "source": [
    "**FT vs. NA**"
   ]
  },
  {
   "cell_type": "code",
   "execution_count": null,
   "metadata": {},
   "outputs": [],
   "source": [
    "biom convert \\\n",
    "    -i /mnt/zarrinpar/scratch/sfloresr/metatranscript/metatranscript/woltka2_results/pfam/pfam_FTNA.txt\\\n",
    "    -o /mnt/zarrinpar/scratch/sfloresr/metatranscript/metatranscript/woltka2_results/pfam/pfam_FTNA.biom \\\n",
    "    --table-type=\"OTU table\" \\\n",
    "    --to-hdf5\n",
    "\n",
    "qiime tools import \\\n",
    "    --input-path /mnt/zarrinpar/scratch/sfloresr/metatranscript/metatranscript/woltka2_results/pfam/pfam_FTNA.biom \\\n",
    "    --output-path /mnt/zarrinpar/scratch/sfloresr/metatranscript/metatranscript/woltka2_results/pfam/pfam_FTNA.qza \\\n",
    "    --type FeatureTable[Frequency]"
   ]
  },
  {
   "cell_type": "code",
   "execution_count": null,
   "metadata": {},
   "outputs": [],
   "source": [
    "qiime songbird multinomial \\\n",
    "  --i-table /mnt/zarrinpar/scratch/sfloresr/metatranscript/metatranscript/woltka2_results/pfam/pfam_FTNA.qza \\\n",
    "  --m-metadata-file /mnt/zarrinpar/scratch/sfloresr/metatranscript/metatranscript/woltka2_results/metaT_FTNA_metadata.txt \\\n",
    "  --p-formula \"C(condition, Treatment('NA'))\" \\\n",
    "  --p-epochs 5000 \\\n",
    "  --p-differential-prior 1 \\\n",
    "  --p-summary-interval 1 \\\n",
    "  --o-differentials /mnt/zarrinpar/scratch/sfloresr/metatranscript/metatranscript/woltka2_results/songbird/differentials_FTNA_conditionOnly.qza \\\n",
    "  --o-regression-stats /mnt/zarrinpar/scratch/sfloresr/metatranscript/metatranscript/woltka2_results/songbird/regression-stats_FTNA_conditionOnly.qza \\\n",
    "  --o-regression-biplot /mnt/zarrinpar/scratch/sfloresr/metatranscript/metatranscript/woltka2_results/songbird/regression-biplot_FTNA_conditionOnly.qza"
   ]
  },
  {
   "cell_type": "code",
   "execution_count": null,
   "metadata": {},
   "outputs": [],
   "source": [
    "qiime songbird multinomial \\\n",
    "  --i-table /mnt/zarrinpar/scratch/sfloresr/metatranscript/metatranscript/woltka2_results/pfam/pfam_FTNA.qza \\\n",
    "  --m-metadata-file /mnt/zarrinpar/scratch/sfloresr/metatranscript/metatranscript/woltka2_results/metaT_FTNA_metadata.txt \\\n",
    "  --p-formula \"1\" \\\n",
    "  --p-epochs 5000 \\\n",
    "  --p-differential-prior 1 \\\n",
    "  --p-summary-interval 1 \\\n",
    "  --o-differentials /mnt/zarrinpar/scratch/sfloresr/metatranscript/metatranscript/woltka2_results/songbird/null_differentials_FTNA_conditionOnly.qza \\\n",
    "  --o-regression-stats /mnt/zarrinpar/scratch/sfloresr/metatranscript/metatranscript/woltka2_results/songbird/null-stats_FTNA_conditionOnly.qza \\\n",
    "  --o-regression-biplot /mnt/zarrinpar/scratch/sfloresr/metatranscript/metatranscript/woltka2_results/songbird/null-biplot_FTNA_conditionOnly.qza"
   ]
  },
  {
   "cell_type": "code",
   "execution_count": null,
   "metadata": {},
   "outputs": [],
   "source": [
    "qiime songbird summarize-paired \\\n",
    "\t--i-regression-stats /mnt/zarrinpar/scratch/sfloresr/metatranscript/metatranscript/woltka2_results/songbird/regression-stats_FTNA_conditionOnly.qza \\\n",
    "\t--i-baseline-stats /mnt/zarrinpar/scratch/sfloresr/metatranscript/metatranscript/woltka2_results/songbird/null-stats_FTNA_conditionOnly.qza \\\n",
    "\t--o-visualization /mnt/zarrinpar/scratch/sfloresr/metatranscript/metatranscript/woltka2_results/songbird/paired-summary-FTNA_conditionOnly.qzv"
   ]
  },
  {
   "cell_type": "markdown",
   "metadata": {},
   "source": [
    "**FA vs. NA**"
   ]
  },
  {
   "cell_type": "code",
   "execution_count": null,
   "metadata": {},
   "outputs": [],
   "source": [
    "#dont run\n",
    "biom convert \\\n",
    "    -i /mnt/zarrinpar/scratch/sfloresr/metatranscript/metatranscript/woltka2_results/pfam/pfam_FANA.txt\\\n",
    "    -o /mnt/zarrinpar/scratch/sfloresr/metatranscript/metatranscript/woltka2_results/pfam/pfam_FANA.biom \\\n",
    "    --table-type=\"OTU table\" \\\n",
    "    --to-hdf5\n",
    "\n",
    "qiime tools import \\\n",
    "    --input-path /mnt/zarrinpar/scratch/sfloresr/metatranscript/metatranscript/woltka2_results/pfam/pfam_FANA.biom \\\n",
    "    --output-path /mnt/zarrinpar/scratch/sfloresr/metatranscript/metatranscript/woltka2_results/pfam/pfam_FANA.qza \\\n",
    "    --type FeatureTable[Frequency]"
   ]
  },
  {
   "cell_type": "code",
   "execution_count": null,
   "metadata": {},
   "outputs": [],
   "source": [
    "qiime songbird multinomial \\\n",
    "  --i-table /mnt/zarrinpar/scratch/sfloresr/metatranscript/metatranscript/woltka2_results/pfam/pfam_FANA.qza \\\n",
    "  --m-metadata-file /mnt/zarrinpar/scratch/sfloresr/metatranscript/metatranscript/woltka2_results/metaT_FANA_metadata.txt \\\n",
    "  --p-formula \"C(condition, Treatment('NA'))\" \\\n",
    "  --p-epochs 5000 \\\n",
    "  --p-differential-prior 1 \\\n",
    "  --p-summary-interval 1 \\\n",
    "  --o-differentials /mnt/zarrinpar/scratch/sfloresr/metatranscript/metatranscript/woltka2_results/songbird/differentials_FANA_conditionOnly.qza \\\n",
    "  --o-regression-stats /mnt/zarrinpar/scratch/sfloresr/metatranscript/metatranscript/woltka2_results/songbird/regression-stats_FANA_conditionOnly.qza \\\n",
    "  --o-regression-biplot /mnt/zarrinpar/scratch/sfloresr/metatranscript/metatranscript/woltka2_results/songbird/regression-biplot_FANA_conditionOnly.qza"
   ]
  },
  {
   "cell_type": "code",
   "execution_count": null,
   "metadata": {},
   "outputs": [],
   "source": [
    "qiime songbird multinomial \\\n",
    "  --i-table /mnt/zarrinpar/scratch/sfloresr/metatranscript/metatranscript/woltka2_results/pfam/pfam_FANA.qza \\\n",
    "  --m-metadata-file /mnt/zarrinpar/scratch/sfloresr/metatranscript/metatranscript/woltka2_results/metaT_FANA_metadata.txt \\\n",
    "  --p-formula \"1\" \\\n",
    "  --p-epochs 5000 \\\n",
    "  --p-differential-prior 1 \\\n",
    "  --p-summary-interval 1 \\\n",
    "  --o-differentials /mnt/zarrinpar/scratch/sfloresr/metatranscript/metatranscript/woltka2_results/songbird/null_differentials_FANA_conditionOnly.qza \\\n",
    "  --o-regression-stats /mnt/zarrinpar/scratch/sfloresr/metatranscript/metatranscript/woltka2_results/songbird/null-stats_FANA_conditionOnly.qza \\\n",
    "  --o-regression-biplot /mnt/zarrinpar/scratch/sfloresr/metatranscript/metatranscript/woltka2_results/songbird/null-biplot_FANA_conditionOnly.qza"
   ]
  },
  {
   "cell_type": "code",
   "execution_count": null,
   "metadata": {},
   "outputs": [],
   "source": [
    "qiime songbird summarize-paired \\\n",
    "\t--i-regression-stats /mnt/zarrinpar/scratch/sfloresr/metatranscript/metatranscript/woltka2_results/songbird/regression-stats_FANA_conditionOnly.qza \\\n",
    "\t--i-baseline-stats /mnt/zarrinpar/scratch/sfloresr/metatranscript/metatranscript/woltka2_results/songbird/null-stats_FANA_conditionOnly.qza \\\n",
    "\t--o-visualization /mnt/zarrinpar/scratch/sfloresr/metatranscript/metatranscript/woltka2_results/songbird/paired-summary-FANA_conditionOnly.qzv"
   ]
  },
  {
   "cell_type": "markdown",
   "metadata": {},
   "source": [
    "**convert counts tables to TPM**"
   ]
  },
  {
   "cell_type": "code",
   "execution_count": 13,
   "metadata": {},
   "outputs": [
    {
     "data": {
      "text/html": [
       "<div>\n",
       "<style scoped>\n",
       "    .dataframe tbody tr th:only-of-type {\n",
       "        vertical-align: middle;\n",
       "    }\n",
       "\n",
       "    .dataframe tbody tr th {\n",
       "        vertical-align: top;\n",
       "    }\n",
       "\n",
       "    .dataframe thead th {\n",
       "        text-align: right;\n",
       "    }\n",
       "</style>\n",
       "<table border=\"1\" class=\"dataframe\">\n",
       "  <thead>\n",
       "    <tr style=\"text-align: right;\">\n",
       "      <th></th>\n",
       "      <th>cFA01a</th>\n",
       "      <th>cFA01b</th>\n",
       "      <th>cFA05a</th>\n",
       "      <th>cFA05b</th>\n",
       "      <th>cFA09a</th>\n",
       "      <th>cFA09b</th>\n",
       "      <th>cFA13a</th>\n",
       "      <th>cFA13b</th>\n",
       "      <th>cFA17a</th>\n",
       "      <th>cFA17b</th>\n",
       "      <th>...</th>\n",
       "      <th>cFT05a</th>\n",
       "      <th>cFT05b</th>\n",
       "      <th>cFT09a</th>\n",
       "      <th>cFT09b</th>\n",
       "      <th>cFT13a</th>\n",
       "      <th>cFT13b</th>\n",
       "      <th>cFT17a</th>\n",
       "      <th>cFT17b</th>\n",
       "      <th>cFT21a</th>\n",
       "      <th>cFT21b</th>\n",
       "    </tr>\n",
       "    <tr>\n",
       "      <th>FeatureID</th>\n",
       "      <th></th>\n",
       "      <th></th>\n",
       "      <th></th>\n",
       "      <th></th>\n",
       "      <th></th>\n",
       "      <th></th>\n",
       "      <th></th>\n",
       "      <th></th>\n",
       "      <th></th>\n",
       "      <th></th>\n",
       "      <th></th>\n",
       "      <th></th>\n",
       "      <th></th>\n",
       "      <th></th>\n",
       "      <th></th>\n",
       "      <th></th>\n",
       "      <th></th>\n",
       "      <th></th>\n",
       "      <th></th>\n",
       "      <th></th>\n",
       "      <th></th>\n",
       "    </tr>\n",
       "  </thead>\n",
       "  <tbody>\n",
       "    <tr>\n",
       "      <th>PF13561.9</th>\n",
       "      <td>1227.444</td>\n",
       "      <td>661.210</td>\n",
       "      <td>871.082</td>\n",
       "      <td>705.518</td>\n",
       "      <td>1279.808</td>\n",
       "      <td>874.213</td>\n",
       "      <td>844.390</td>\n",
       "      <td>1336.959</td>\n",
       "      <td>1135.773</td>\n",
       "      <td>1055.530</td>\n",
       "      <td>...</td>\n",
       "      <td>767.759</td>\n",
       "      <td>1119.805</td>\n",
       "      <td>1208.059</td>\n",
       "      <td>845.434</td>\n",
       "      <td>945.915</td>\n",
       "      <td>588.511</td>\n",
       "      <td>991.704</td>\n",
       "      <td>747.552</td>\n",
       "      <td>471.290</td>\n",
       "      <td>557.205</td>\n",
       "    </tr>\n",
       "    <tr>\n",
       "      <th>PF08240.15</th>\n",
       "      <td>2329.862</td>\n",
       "      <td>776.307</td>\n",
       "      <td>954.344</td>\n",
       "      <td>571.605</td>\n",
       "      <td>997.675</td>\n",
       "      <td>1248.008</td>\n",
       "      <td>932.635</td>\n",
       "      <td>924.760</td>\n",
       "      <td>878.857</td>\n",
       "      <td>917.060</td>\n",
       "      <td>...</td>\n",
       "      <td>1024.555</td>\n",
       "      <td>1054.666</td>\n",
       "      <td>823.046</td>\n",
       "      <td>957.627</td>\n",
       "      <td>1118.048</td>\n",
       "      <td>1185.505</td>\n",
       "      <td>1076.582</td>\n",
       "      <td>1093.462</td>\n",
       "      <td>692.260</td>\n",
       "      <td>715.475</td>\n",
       "    </tr>\n",
       "    <tr>\n",
       "      <th>PF00107.29</th>\n",
       "      <td>2320.324</td>\n",
       "      <td>771.913</td>\n",
       "      <td>942.132</td>\n",
       "      <td>568.493</td>\n",
       "      <td>979.348</td>\n",
       "      <td>1250.633</td>\n",
       "      <td>925.556</td>\n",
       "      <td>910.447</td>\n",
       "      <td>875.142</td>\n",
       "      <td>908.918</td>\n",
       "      <td>...</td>\n",
       "      <td>1025.110</td>\n",
       "      <td>1061.912</td>\n",
       "      <td>810.929</td>\n",
       "      <td>959.374</td>\n",
       "      <td>1108.410</td>\n",
       "      <td>1185.545</td>\n",
       "      <td>1076.215</td>\n",
       "      <td>1086.574</td>\n",
       "      <td>694.061</td>\n",
       "      <td>716.446</td>\n",
       "    </tr>\n",
       "    <tr>\n",
       "      <th>PF12698.10</th>\n",
       "      <td>256.816</td>\n",
       "      <td>70.840</td>\n",
       "      <td>429.462</td>\n",
       "      <td>84.284</td>\n",
       "      <td>329.369</td>\n",
       "      <td>97.042</td>\n",
       "      <td>176.926</td>\n",
       "      <td>348.855</td>\n",
       "      <td>144.468</td>\n",
       "      <td>141.826</td>\n",
       "      <td>...</td>\n",
       "      <td>149.060</td>\n",
       "      <td>413.947</td>\n",
       "      <td>256.015</td>\n",
       "      <td>146.941</td>\n",
       "      <td>391.488</td>\n",
       "      <td>171.223</td>\n",
       "      <td>480.765</td>\n",
       "      <td>250.287</td>\n",
       "      <td>71.600</td>\n",
       "      <td>60.126</td>\n",
       "    </tr>\n",
       "    <tr>\n",
       "      <th>PF01264.24</th>\n",
       "      <td>98.301</td>\n",
       "      <td>71.636</td>\n",
       "      <td>119.419</td>\n",
       "      <td>46.923</td>\n",
       "      <td>88.573</td>\n",
       "      <td>95.642</td>\n",
       "      <td>74.473</td>\n",
       "      <td>129.736</td>\n",
       "      <td>74.204</td>\n",
       "      <td>109.146</td>\n",
       "      <td>...</td>\n",
       "      <td>21.647</td>\n",
       "      <td>56.821</td>\n",
       "      <td>108.724</td>\n",
       "      <td>53.731</td>\n",
       "      <td>61.392</td>\n",
       "      <td>53.505</td>\n",
       "      <td>56.753</td>\n",
       "      <td>57.604</td>\n",
       "      <td>55.616</td>\n",
       "      <td>38.639</td>\n",
       "    </tr>\n",
       "  </tbody>\n",
       "</table>\n",
       "<p>5 rows × 24 columns</p>\n",
       "</div>"
      ],
      "text/plain": [
       "              cFA01a   cFA01b   cFA05a   cFA05b    cFA09a    cFA09b   cFA13a  \\\n",
       "FeatureID                                                                      \n",
       "PF13561.9   1227.444  661.210  871.082  705.518  1279.808   874.213  844.390   \n",
       "PF08240.15  2329.862  776.307  954.344  571.605   997.675  1248.008  932.635   \n",
       "PF00107.29  2320.324  771.913  942.132  568.493   979.348  1250.633  925.556   \n",
       "PF12698.10   256.816   70.840  429.462   84.284   329.369    97.042  176.926   \n",
       "PF01264.24    98.301   71.636  119.419   46.923    88.573    95.642   74.473   \n",
       "\n",
       "              cFA13b    cFA17a    cFA17b  ...    cFT05a    cFT05b    cFT09a  \\\n",
       "FeatureID                                 ...                                 \n",
       "PF13561.9   1336.959  1135.773  1055.530  ...   767.759  1119.805  1208.059   \n",
       "PF08240.15   924.760   878.857   917.060  ...  1024.555  1054.666   823.046   \n",
       "PF00107.29   910.447   875.142   908.918  ...  1025.110  1061.912   810.929   \n",
       "PF12698.10   348.855   144.468   141.826  ...   149.060   413.947   256.015   \n",
       "PF01264.24   129.736    74.204   109.146  ...    21.647    56.821   108.724   \n",
       "\n",
       "             cFT09b    cFT13a    cFT13b    cFT17a    cFT17b   cFT21a   cFT21b  \n",
       "FeatureID                                                                      \n",
       "PF13561.9   845.434   945.915   588.511   991.704   747.552  471.290  557.205  \n",
       "PF08240.15  957.627  1118.048  1185.505  1076.582  1093.462  692.260  715.475  \n",
       "PF00107.29  959.374  1108.410  1185.545  1076.215  1086.574  694.061  716.446  \n",
       "PF12698.10  146.941   391.488   171.223   480.765   250.287   71.600   60.126  \n",
       "PF01264.24   53.731    61.392    53.505    56.753    57.604   55.616   38.639  \n",
       "\n",
       "[5 rows x 24 columns]"
      ]
     },
     "execution_count": 13,
     "metadata": {},
     "output_type": "execute_result"
    }
   ],
   "source": [
    "df= pd.read_csv('/mnt/zarrinpar/scratch/sfloresr/metatranscript/metatranscript/woltka2_results/pfam/pfam_FAFT.txt',\n",
    "                     sep='\\t', index_col=0)\n",
    "df.head()"
   ]
  },
  {
   "cell_type": "code",
   "execution_count": 14,
   "metadata": {},
   "outputs": [
    {
     "data": {
      "text/html": [
       "<div>\n",
       "<style scoped>\n",
       "    .dataframe tbody tr th:only-of-type {\n",
       "        vertical-align: middle;\n",
       "    }\n",
       "\n",
       "    .dataframe tbody tr th {\n",
       "        vertical-align: top;\n",
       "    }\n",
       "\n",
       "    .dataframe thead th {\n",
       "        text-align: right;\n",
       "    }\n",
       "</style>\n",
       "<table border=\"1\" class=\"dataframe\">\n",
       "  <thead>\n",
       "    <tr style=\"text-align: right;\">\n",
       "      <th></th>\n",
       "      <th>cFA01a</th>\n",
       "      <th>cFA01b</th>\n",
       "      <th>cFA05a</th>\n",
       "      <th>cFA05b</th>\n",
       "      <th>cFA09a</th>\n",
       "      <th>cFA09b</th>\n",
       "      <th>cFA13a</th>\n",
       "      <th>cFA13b</th>\n",
       "      <th>cFA17a</th>\n",
       "      <th>cFA17b</th>\n",
       "      <th>...</th>\n",
       "      <th>cFT05a</th>\n",
       "      <th>cFT05b</th>\n",
       "      <th>cFT09a</th>\n",
       "      <th>cFT09b</th>\n",
       "      <th>cFT13a</th>\n",
       "      <th>cFT13b</th>\n",
       "      <th>cFT17a</th>\n",
       "      <th>cFT17b</th>\n",
       "      <th>cFT21a</th>\n",
       "      <th>cFT21b</th>\n",
       "    </tr>\n",
       "    <tr>\n",
       "      <th>FeatureID</th>\n",
       "      <th></th>\n",
       "      <th></th>\n",
       "      <th></th>\n",
       "      <th></th>\n",
       "      <th></th>\n",
       "      <th></th>\n",
       "      <th></th>\n",
       "      <th></th>\n",
       "      <th></th>\n",
       "      <th></th>\n",
       "      <th></th>\n",
       "      <th></th>\n",
       "      <th></th>\n",
       "      <th></th>\n",
       "      <th></th>\n",
       "      <th></th>\n",
       "      <th></th>\n",
       "      <th></th>\n",
       "      <th></th>\n",
       "      <th></th>\n",
       "      <th></th>\n",
       "    </tr>\n",
       "  </thead>\n",
       "  <tbody>\n",
       "    <tr>\n",
       "      <th>PF13561.9</th>\n",
       "      <td>290.152308</td>\n",
       "      <td>318.938010</td>\n",
       "      <td>118.945677</td>\n",
       "      <td>469.137006</td>\n",
       "      <td>411.935037</td>\n",
       "      <td>314.135808</td>\n",
       "      <td>263.543486</td>\n",
       "      <td>486.066428</td>\n",
       "      <td>382.549286</td>\n",
       "      <td>392.022535</td>\n",
       "      <td>...</td>\n",
       "      <td>356.400190</td>\n",
       "      <td>534.366809</td>\n",
       "      <td>210.596896</td>\n",
       "      <td>307.929526</td>\n",
       "      <td>194.514677</td>\n",
       "      <td>242.480643</td>\n",
       "      <td>148.536793</td>\n",
       "      <td>362.926854</td>\n",
       "      <td>165.340359</td>\n",
       "      <td>222.631694</td>\n",
       "    </tr>\n",
       "    <tr>\n",
       "      <th>PF08240.15</th>\n",
       "      <td>550.750044</td>\n",
       "      <td>374.455634</td>\n",
       "      <td>130.315049</td>\n",
       "      <td>380.091023</td>\n",
       "      <td>321.124175</td>\n",
       "      <td>448.453639</td>\n",
       "      <td>291.085729</td>\n",
       "      <td>336.206862</td>\n",
       "      <td>296.015240</td>\n",
       "      <td>340.594948</td>\n",
       "      <td>...</td>\n",
       "      <td>475.607055</td>\n",
       "      <td>503.282719</td>\n",
       "      <td>143.478864</td>\n",
       "      <td>348.793197</td>\n",
       "      <td>229.911509</td>\n",
       "      <td>488.456486</td>\n",
       "      <td>161.249766</td>\n",
       "      <td>530.861698</td>\n",
       "      <td>242.862180</td>\n",
       "      <td>285.868596</td>\n",
       "    </tr>\n",
       "    <tr>\n",
       "      <th>PF00107.29</th>\n",
       "      <td>548.495380</td>\n",
       "      <td>372.336166</td>\n",
       "      <td>128.647508</td>\n",
       "      <td>378.021686</td>\n",
       "      <td>315.225217</td>\n",
       "      <td>449.396895</td>\n",
       "      <td>288.876295</td>\n",
       "      <td>331.003210</td>\n",
       "      <td>294.763960</td>\n",
       "      <td>337.571020</td>\n",
       "      <td>...</td>\n",
       "      <td>475.864691</td>\n",
       "      <td>506.740483</td>\n",
       "      <td>141.366547</td>\n",
       "      <td>349.429501</td>\n",
       "      <td>227.929585</td>\n",
       "      <td>488.472966</td>\n",
       "      <td>161.194797</td>\n",
       "      <td>527.517662</td>\n",
       "      <td>243.494016</td>\n",
       "      <td>286.256560</td>\n",
       "    </tr>\n",
       "    <tr>\n",
       "      <th>PF12698.10</th>\n",
       "      <td>60.708069</td>\n",
       "      <td>34.170035</td>\n",
       "      <td>58.642755</td>\n",
       "      <td>56.044982</td>\n",
       "      <td>106.014833</td>\n",
       "      <td>34.870640</td>\n",
       "      <td>55.220567</td>\n",
       "      <td>126.830145</td>\n",
       "      <td>48.659486</td>\n",
       "      <td>52.674001</td>\n",
       "      <td>...</td>\n",
       "      <td>69.194907</td>\n",
       "      <td>197.533979</td>\n",
       "      <td>44.630241</td>\n",
       "      <td>53.519816</td>\n",
       "      <td>80.504233</td>\n",
       "      <td>70.547982</td>\n",
       "      <td>72.008675</td>\n",
       "      <td>121.511110</td>\n",
       "      <td>25.119077</td>\n",
       "      <td>24.023390</td>\n",
       "    </tr>\n",
       "    <tr>\n",
       "      <th>PF01264.24</th>\n",
       "      <td>23.237119</td>\n",
       "      <td>34.553989</td>\n",
       "      <td>16.306586</td>\n",
       "      <td>31.201636</td>\n",
       "      <td>28.509215</td>\n",
       "      <td>34.367571</td>\n",
       "      <td>23.243849</td>\n",
       "      <td>47.166977</td>\n",
       "      <td>24.993275</td>\n",
       "      <td>40.536689</td>\n",
       "      <td>...</td>\n",
       "      <td>10.048720</td>\n",
       "      <td>27.114771</td>\n",
       "      <td>18.953492</td>\n",
       "      <td>19.570258</td>\n",
       "      <td>12.624438</td>\n",
       "      <td>22.045343</td>\n",
       "      <td>8.500428</td>\n",
       "      <td>27.965999</td>\n",
       "      <td>19.511488</td>\n",
       "      <td>15.438243</td>\n",
       "    </tr>\n",
       "  </tbody>\n",
       "</table>\n",
       "<p>5 rows × 24 columns</p>\n",
       "</div>"
      ],
      "text/plain": [
       "                cFA01a      cFA01b      cFA05a      cFA05b      cFA09a  \\\n",
       "FeatureID                                                                \n",
       "PF13561.9   290.152308  318.938010  118.945677  469.137006  411.935037   \n",
       "PF08240.15  550.750044  374.455634  130.315049  380.091023  321.124175   \n",
       "PF00107.29  548.495380  372.336166  128.647508  378.021686  315.225217   \n",
       "PF12698.10   60.708069   34.170035   58.642755   56.044982  106.014833   \n",
       "PF01264.24   23.237119   34.553989   16.306586   31.201636   28.509215   \n",
       "\n",
       "                cFA09b      cFA13a      cFA13b      cFA17a      cFA17b  ...  \\\n",
       "FeatureID                                                               ...   \n",
       "PF13561.9   314.135808  263.543486  486.066428  382.549286  392.022535  ...   \n",
       "PF08240.15  448.453639  291.085729  336.206862  296.015240  340.594948  ...   \n",
       "PF00107.29  449.396895  288.876295  331.003210  294.763960  337.571020  ...   \n",
       "PF12698.10   34.870640   55.220567  126.830145   48.659486   52.674001  ...   \n",
       "PF01264.24   34.367571   23.243849   47.166977   24.993275   40.536689  ...   \n",
       "\n",
       "                cFT05a      cFT05b      cFT09a      cFT09b      cFT13a  \\\n",
       "FeatureID                                                                \n",
       "PF13561.9   356.400190  534.366809  210.596896  307.929526  194.514677   \n",
       "PF08240.15  475.607055  503.282719  143.478864  348.793197  229.911509   \n",
       "PF00107.29  475.864691  506.740483  141.366547  349.429501  227.929585   \n",
       "PF12698.10   69.194907  197.533979   44.630241   53.519816   80.504233   \n",
       "PF01264.24   10.048720   27.114771   18.953492   19.570258   12.624438   \n",
       "\n",
       "                cFT13b      cFT17a      cFT17b      cFT21a      cFT21b  \n",
       "FeatureID                                                               \n",
       "PF13561.9   242.480643  148.536793  362.926854  165.340359  222.631694  \n",
       "PF08240.15  488.456486  161.249766  530.861698  242.862180  285.868596  \n",
       "PF00107.29  488.472966  161.194797  527.517662  243.494016  286.256560  \n",
       "PF12698.10   70.547982   72.008675  121.511110   25.119077   24.023390  \n",
       "PF01264.24   22.045343    8.500428   27.965999   19.511488   15.438243  \n",
       "\n",
       "[5 rows x 24 columns]"
      ]
     },
     "execution_count": 14,
     "metadata": {},
     "output_type": "execute_result"
    }
   ],
   "source": [
    "df = df * 1000000 / df.sum()\n",
    "df.head()"
   ]
  },
  {
   "cell_type": "code",
   "execution_count": 15,
   "metadata": {},
   "outputs": [],
   "source": [
    "df.to_csv('/mnt/zarrinpar/scratch/sfloresr/metatranscript/metatranscript/woltka2_results/pfam/pfam_FAFT_TPM.txt',\n",
    "         sep='\\t')"
   ]
  },
  {
   "cell_type": "code",
   "execution_count": 16,
   "metadata": {},
   "outputs": [],
   "source": [
    "df= pd.read_csv('/mnt/zarrinpar/scratch/sfloresr/metatranscript/metatranscript/woltka2_results/pfam/pfam_FTNA.txt',\n",
    "                     sep='\\t', index_col=0)\n",
    "df = df * 1000000 / df.sum()\n",
    "df.to_csv('/mnt/zarrinpar/scratch/sfloresr/metatranscript/metatranscript/woltka2_results/pfam/pfam_FTNA_TPM.txt',\n",
    "         sep='\\t')"
   ]
  },
  {
   "cell_type": "code",
   "execution_count": 17,
   "metadata": {},
   "outputs": [],
   "source": [
    "df= pd.read_csv('/mnt/zarrinpar/scratch/sfloresr/metatranscript/metatranscript/woltka2_results/pfam/pfam_FANA.txt',\n",
    "                     sep='\\t', index_col=0)\n",
    "df = df * 1000000 / df.sum()\n",
    "df.to_csv('/mnt/zarrinpar/scratch/sfloresr/metatranscript/metatranscript/woltka2_results/pfam/pfam_FANA_TPM.txt',\n",
    "         sep='\\t')"
   ]
  },
  {
   "cell_type": "code",
   "execution_count": 18,
   "metadata": {},
   "outputs": [],
   "source": [
    "df= pd.read_csv('/mnt/zarrinpar/scratch/sfloresr/metatranscript/metatranscript/woltka2_results/pfam/pfam_clean_noNT.txt',\n",
    "                     sep='\\t', index_col=0)\n",
    "df = df * 1000000 / df.sum()\n",
    "df.to_csv('/mnt/zarrinpar/scratch/sfloresr/metatranscript/metatranscript/woltka2_results/pfam/pfam_clean_noNT_TPM.txt',\n",
    "         sep='\\t')"
   ]
  },
  {
   "cell_type": "code",
   "execution_count": 2,
   "metadata": {},
   "outputs": [],
   "source": [
    "df= pd.read_csv('/mnt/zarrinpar/scratch/sfloresr/metatranscript/metatranscript/woltka2_results/species_func/species_pfam_clean_noNT.tsv',\n",
    "                     sep='\\t', index_col=0)\n",
    "df = df * 1000000 / df.sum()\n",
    "df.to_csv('/mnt/zarrinpar/scratch/sfloresr/metatranscript/metatranscript/woltka2_results/species_func/species_pfam_clean_noNT_TPM.txt',\n",
    "         sep='\\t')"
   ]
  },
  {
   "cell_type": "code",
   "execution_count": 2,
   "metadata": {},
   "outputs": [],
   "source": [
    "df= pd.read_csv('/mnt/zarrinpar/scratch/sfloresr/metatranscript/metatranscript/woltka2_results/genus_func/genus_pfam_clean_noNT.tsv',\n",
    "                     sep='\\t', index_col=0)\n",
    "df = df * 1000000 / df.sum()\n",
    "df.to_csv('/mnt/zarrinpar/scratch/sfloresr/metatranscript/metatranscript/woltka2_results/genus_func/genus_pfam_clean_noNT_TPM.txt',\n",
    "         sep='\\t')"
   ]
  },
  {
   "cell_type": "code",
   "execution_count": 10,
   "metadata": {},
   "outputs": [],
   "source": [
    "df= pd.read_csv('/mnt/zarrinpar/scratch/sfloresr/metatranscript/metatranscript/woltka2_results/aidan_wol2_cyclic_analysis/wol2_rna_pipeline_SFR/filtered_rna_FA.txt',\n",
    "                     sep='\\t', index_col=0)\n",
    "df = df * 1000000 / df.sum()\n",
    "df.to_csv('/mnt/zarrinpar/scratch/sfloresr/metatranscript/metatranscript/woltka2_results/aidan_wol2_cyclic_analysis/wol2_rna_pipeline_SFR/filtered_rna_FA_TPM.txt',\n",
    "         sep='\\t')"
   ]
  },
  {
   "cell_type": "code",
   "execution_count": 11,
   "metadata": {},
   "outputs": [],
   "source": [
    "df= pd.read_csv('/mnt/zarrinpar/scratch/sfloresr/metatranscript/metatranscript/woltka2_results/aidan_wol2_cyclic_analysis/wol2_rna_pipeline_SFR/filtered_rna_NA.txt',\n",
    "                     sep='\\t', index_col=0)\n",
    "df = df * 1000000 / df.sum()\n",
    "df.to_csv('/mnt/zarrinpar/scratch/sfloresr/metatranscript/metatranscript/woltka2_results/aidan_wol2_cyclic_analysis/wol2_rna_pipeline_SFR/filtered_rna_NA_TPM.txt',\n",
    "         sep='\\t')"
   ]
  },
  {
   "cell_type": "code",
   "execution_count": 12,
   "metadata": {},
   "outputs": [],
   "source": [
    "df= pd.read_csv('/mnt/zarrinpar/scratch/sfloresr/metatranscript/metatranscript/woltka2_results/aidan_wol2_cyclic_analysis/wol2_rna_pipeline_SFR/filtered_rna_FT.txt',\n",
    "                     sep='\\t', index_col=0)\n",
    "df = df * 1000000 / df.sum()\n",
    "df.to_csv('/mnt/zarrinpar/scratch/sfloresr/metatranscript/metatranscript/woltka2_results/aidan_wol2_cyclic_analysis/wol2_rna_pipeline_SFR/filtered_rna_FT_TPM.txt',\n",
    "         sep='\\t')"
   ]
  },
  {
   "cell_type": "code",
   "execution_count": 7,
   "metadata": {},
   "outputs": [],
   "source": [
    "df= pd.read_csv('/mnt/zarrinpar/scratch/sfloresr/metatranscript/metatranscript/woltka2_results/aidan_wol2_cyclic_analysis/wol2_rna_pipeline_144K_SFR/filtered_rna_FA.txt',\n",
    "                     sep='\\t', index_col=0)\n",
    "df = df * 1000000 / df.sum()\n",
    "df.to_csv('/mnt/zarrinpar/scratch/sfloresr/metatranscript/metatranscript/woltka2_results/aidan_wol2_cyclic_analysis/wol2_rna_pipeline_144K_SFR/filtered_rna_FA_TPM.txt',\n",
    "         sep='\\t')"
   ]
  },
  {
   "cell_type": "code",
   "execution_count": 8,
   "metadata": {},
   "outputs": [],
   "source": [
    "df= pd.read_csv('/mnt/zarrinpar/scratch/sfloresr/metatranscript/metatranscript/woltka2_results/aidan_wol2_cyclic_analysis/wol2_rna_pipeline_144K_SFR/filtered_rna_NA.txt',\n",
    "                     sep='\\t', index_col=0)\n",
    "df = df * 1000000 / df.sum()\n",
    "df.to_csv('/mnt/zarrinpar/scratch/sfloresr/metatranscript/metatranscript/woltka2_results/aidan_wol2_cyclic_analysis/wol2_rna_pipeline_144K_SFR/filtered_rna_NA_TPM.txt',\n",
    "         sep='\\t')"
   ]
  },
  {
   "cell_type": "code",
   "execution_count": 9,
   "metadata": {},
   "outputs": [],
   "source": [
    "df= pd.read_csv('/mnt/zarrinpar/scratch/sfloresr/metatranscript/metatranscript/woltka2_results/aidan_wol2_cyclic_analysis/wol2_rna_pipeline_144K_SFR/filtered_rna_FT.txt',\n",
    "                     sep='\\t', index_col=0)\n",
    "df = df * 1000000 / df.sum()\n",
    "df.to_csv('/mnt/zarrinpar/scratch/sfloresr/metatranscript/metatranscript/woltka2_results/aidan_wol2_cyclic_analysis/wol2_rna_pipeline_144K_SFR/filtered_rna_FT_TPM.txt',\n",
    "         sep='\\t')"
   ]
  }
 ],
 "metadata": {
  "kernelspec": {
   "display_name": "qiime2-2023.7",
   "language": "python",
   "name": "qiime2-2023.7"
  },
  "language_info": {
   "codemirror_mode": {
    "name": "ipython",
    "version": 3
   },
   "file_extension": ".py",
   "mimetype": "text/x-python",
   "name": "python",
   "nbconvert_exporter": "python",
   "pygments_lexer": "ipython3",
   "version": "3.8.15"
  }
 },
 "nbformat": 4,
 "nbformat_minor": 4
}

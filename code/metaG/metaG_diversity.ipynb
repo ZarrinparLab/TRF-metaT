{
 "cells": [
  {
   "cell_type": "markdown",
   "metadata": {},
   "source": [
    "## Metagenomic processing"
   ]
  },
  {
   "cell_type": "code",
   "execution_count": 21,
   "metadata": {},
   "outputs": [],
   "source": [
    "import qiime2\n",
    "import biom\n",
    "import pandas as pd\n",
    "import numpy as np\n",
    "import time\n",
    "import seaborn as sns\n",
    "import matplotlib.pyplot as plt\n",
    "import os\n",
    "\n",
    "%matplotlib inline\n",
    "import glob"
   ]
  },
  {
   "cell_type": "markdown",
   "metadata": {},
   "source": [
    "max depth of mtg 195,884"
   ]
  },
  {
   "cell_type": "code",
   "execution_count": null,
   "metadata": {},
   "outputs": [],
   "source": [
    "biom convert \\\n",
    "-i /mnt/zarrinpar/scratch/sfloresr/TRF_multiomics/metagenomic/woltka2_results/filtered_metaG/pfam_notnorm/pfam_clean_noNT.txt \\\n",
    "-o /mnt/zarrinpar/scratch/sfloresr/TRF_multiomics/metagenomic/woltka2_results/filtered_metaG/pfam_notnorm/pfam_clean_noNT.biom \\\n",
    "--table-type=\"OTU table\" \\\n",
    "--to-hdf5\n",
    "\n",
    "qiime tools import \\\n",
    "--input-path /mnt/zarrinpar/scratch/sfloresr/TRF_multiomics/metagenomic/woltka2_results/filtered_metaG/pfam_notnorm/pfam_clean_noNT.biom \\\n",
    "--output-path /mnt/zarrinpar/scratch/sfloresr/TRF_multiomics/metagenomic/woltka2_results/filtered_metaG/pfam_notnorm/pfam_clean_noNT.qza \\\n",
    "--type FeatureTable[Frequency]"
   ]
  },
  {
   "cell_type": "code",
   "execution_count": null,
   "metadata": {},
   "outputs": [],
   "source": [
    "qiime diversity alpha-rarefaction \\\n",
    "  --i-table /mnt/zarrinpar/scratch/sfloresr/TRF_multiomics/metagenomic/woltka2_results/filtered_metaG/pfam_notnorm/pfam_clean_noNT.qza \\\n",
    "  --p-max-depth 20000 \\\n",
    "  --p-min-depth 1000 \\\n",
    "  --p-steps 10 \\\n",
    "  --m-metadata-file /mnt/zarrinpar/scratch/sfloresr/TRF_multiomics/metagenomic/metaG_metadata_noNT.txt \\\n",
    "  --output-dir /mnt/zarrinpar/scratch/sfloresr/TRF_multiomics/metagenomic/woltka2_results/filtered_metaG/pfam_notnorm/alpha-rarefaction20k \\\n",
    "  --o-visualization /mnt/zarrinpar/scratch/sfloresr/TRF_multiomics/metagenomic/woltka2_results/filtered_metaG/pfam_notnorm/alpha-rarefaction20k.qzv"
   ]
  },
  {
   "cell_type": "code",
   "execution_count": null,
   "metadata": {},
   "outputs": [],
   "source": [
    "qiime diversity core-metrics \\\n",
    "  --i-table /mnt/zarrinpar/scratch/sfloresr/TRF_multiomics/metagenomic/woltka2_results/filtered_metaG/pfam_notnorm/pfam_clean_noNT.qza \\\n",
    "  --p-sampling-depth 12000 \\\n",
    "  --m-metadata-file /mnt/zarrinpar/scratch/sfloresr/TRF_multiomics/metagenomic/metaG_metadata_noNT.txt \\\n",
    "  --output-dir /mnt/zarrinpar/scratch/sfloresr/TRF_multiomics/metagenomic/woltka2_results/filtered_metaG/pfam_notnorm/diversity-core-metrics12k/"
   ]
  },
  {
   "cell_type": "markdown",
   "metadata": {},
   "source": [
    "## get the depth of the genome.tsv file for the not norm table"
   ]
  },
  {
   "cell_type": "markdown",
   "metadata": {},
   "source": [
    "max depth of mtg 113,935"
   ]
  },
  {
   "cell_type": "code",
   "execution_count": null,
   "metadata": {},
   "outputs": [],
   "source": [
    "biom convert \\\n",
    "-i /mnt/zarrinpar/scratch/sfloresr/TRF_multiomics/metagenomic/woltka2_results/filtered_metaG/pfam_notnorm/genome_clean_noNT.txt \\\n",
    "-o /mnt/zarrinpar/scratch/sfloresr/TRF_multiomics/metagenomic/woltka2_results/filtered_metaG/pfam_notnorm/genome_clean_noNT.biom \\\n",
    "--table-type=\"OTU table\" \\\n",
    "--to-hdf5\n",
    "\n",
    "qiime tools import \\\n",
    "--input-path /mnt/zarrinpar/scratch/sfloresr/TRF_multiomics/metagenomic/woltka2_results/filtered_metaG/pfam_notnorm/genome_clean_noNT.biom \\\n",
    "--output-path /mnt/zarrinpar/scratch/sfloresr/TRF_multiomics/metagenomic/woltka2_results/filtered_metaG/pfam_notnorm/genome_clean_noNT.qza \\\n",
    "--type FeatureTable[Frequency]"
   ]
  },
  {
   "cell_type": "code",
   "execution_count": null,
   "metadata": {},
   "outputs": [],
   "source": [
    "qiime diversity alpha-rarefaction \\\n",
    "  --i-table /mnt/zarrinpar/scratch/sfloresr/TRF_multiomics/metagenomic/woltka2_results/filtered_metaG/pfam_notnorm/genome_clean_noNT.qza \\\n",
    "  --p-max-depth 500000 \\\n",
    "  --p-min-depth 1000 \\\n",
    "  --p-steps 10 \\\n",
    "  --m-metadata-file /mnt/zarrinpar/scratch/sfloresr/TRF_multiomics/metagenomic/metaG_metadata_noNT.txt \\\n",
    "  --output-dir /mnt/zarrinpar/scratch/sfloresr/TRF_multiomics/metagenomic/woltka2_results/filtered_metaG/pfam_notnorm/g-alpha-rarefaction500k \\\n",
    "  --o-visualization /mnt/zarrinpar/scratch/sfloresr/TRF_multiomics/metagenomic/woltka2_results/filtered_metaG/pfam_notnorm/g-alpha-rarefaction500k.qzv"
   ]
  },
  {
   "cell_type": "markdown",
   "metadata": {},
   "source": [
    "## Get beta diversity"
   ]
  },
  {
   "cell_type": "code",
   "execution_count": null,
   "metadata": {},
   "outputs": [],
   "source": [
    "qiime deicode rpca \\\n",
    "    --i-table /mnt/zarrinpar/scratch/sfloresr/metatranscript/anvi_metagenomic/woltka2_results/pfam/pfam_clean_noNT.qza \\\n",
    "    --p-min-feature-count 15 \\\n",
    "    --p-min-sample-count 500 \\\n",
    "    --o-biplot /mnt/zarrinpar/scratch/sfloresr/metatranscript/anvi_metagenomic/woltka2_results/ordination_deicode_TRFmetaG_noNT.qza \\\n",
    "    --o-distance-matrix /mnt/zarrinpar/scratch/sfloresr/metatranscript/anvi_metagenomic/woltka2_results/beta_deicode_TRFmetaG_noNT.qza"
   ]
  },
  {
   "cell_type": "code",
   "execution_count": null,
   "metadata": {},
   "outputs": [],
   "source": [
    "qiime emperor biplot \\\n",
    "    --i-biplot /mnt/zarrinpar/scratch/sfloresr/metatranscript/anvi_metagenomic/woltka2_results/ordination_deicode_TRFmetaG_noNT.qza \\\n",
    "    --m-sample-metadata-file /mnt/zarrinpar/scratch/sfloresr/metatranscript/anvi_metagenomic/woltka2_results/metaG_metadata_noNT.txt \\\n",
    "    --p-ignore-missing-samples \\\n",
    "    --o-visualization /mnt/zarrinpar/scratch/sfloresr/metatranscript/anvi_metagenomic/woltka2_results/ordination_deicode_TRFmetaG_biplot.qzv"
   ]
  },
  {
   "cell_type": "code",
   "execution_count": null,
   "metadata": {},
   "outputs": [],
   "source": [
    "qiime diversity beta-group-significance \\\n",
    "    --i-distance-matrix /mnt/zarrinpar/scratch/sfloresr/metatranscript/anvi_metagenomic/woltka2_results/beta_deicode_TRFmetaG_noNT.qza \\\n",
    "    --m-metadata-file /mnt/zarrinpar/scratch/sfloresr/metatranscript/anvi_metagenomic/woltka2_results/metaG_metadata_noNT.txt \\\n",
    "    --m-metadata-column condition \\\n",
    "    --p-method permanova \\\n",
    "    --p-pairwise \\\n",
    "    --o-visualization /mnt/zarrinpar/scratch/sfloresr/metatranscript/anvi_metagenomic/woltka2_results/beta_deicode_TRFmetaG_noNT-significanceCond.qzv"
   ]
  },
  {
   "cell_type": "code",
   "execution_count": null,
   "metadata": {},
   "outputs": [],
   "source": [
    "qiime diversity beta-group-significance \\\n",
    "    --i-distance-matrix /mnt/zarrinpar/scratch/sfloresr/TRF_multiomics/metagenomic/woltka2_results/filtered_metaG/pfam_notnorm/metaG_rpca_results/distance_matrix.qza \\\n",
    "    --m-metadata-file /mnt/zarrinpar/scratch/sfloresr/TRF_multiomics/metagenomic/metaG_metadata_noNT.txt \\\n",
    "    --m-metadata-column cond_phase \\\n",
    "    --p-method permanova \\\n",
    "    --p-pairwise \\\n",
    "    --o-visualization /mnt/zarrinpar/scratch/sfloresr/TRF_multiomics/metagenomic/woltka2_results/filtered_metaG/pfam_notnorm/metaG_rpca_results/condphase-significance.qzv"
   ]
  },
  {
   "cell_type": "code",
   "execution_count": null,
   "metadata": {},
   "outputs": [],
   "source": [
    "qiime diversity beta-group-significance \\\n",
    "    --i-distance-matrix /mnt/zarrinpar/scratch/sfloresr/TRF_multiomics/metagenomic/woltka2_results/filtered_metaG/pfam_notnorm/metaG_rpca_results/distance_matrix.qza \\\n",
    "    --m-metadata-file /mnt/zarrinpar/scratch/sfloresr/TRF_multiomics/metagenomic/metaG_metadata_noNT.txt \\\n",
    "    --m-metadata-column cond_zt \\\n",
    "    --p-method permanova \\\n",
    "    --p-pairwise \\\n",
    "    --o-visualization /mnt/zarrinpar/scratch/sfloresr/TRF_multiomics/metagenomic/woltka2_results/filtered_metaG/pfam_notnorm/metaG_rpca_results/condzt-significance.qzv"
   ]
  },
  {
   "cell_type": "code",
   "execution_count": null,
   "metadata": {},
   "outputs": [],
   "source": [
    "qiime diversity beta-group-significance \\\n",
    "    --i-distance-matrix /mnt/zarrinpar/scratch/sfloresr/metatranscript/anvi_metagenomic/woltka2_results/beta_deicode_TRFmetaG_noNT.qza \\\n",
    "    --m-metadata-file /mnt/zarrinpar/scratch/sfloresr/metatranscript/anvi_metagenomic/woltka2_results/metaG_metadata_noNT.txt \\\n",
    "    --m-metadata-column lightdark \\\n",
    "    --p-method permanova \\\n",
    "    --p-pairwise \\\n",
    "    --o-visualization /mnt/zarrinpar/scratch/sfloresr/metatranscript/anvi_metagenomic/woltka2_results/beta_deicode_TRFmetaG_noNT-significanceLD.qzv"
   ]
  },
  {
   "cell_type": "markdown",
   "metadata": {},
   "source": [
    "Visualize the biplot adding feature info"
   ]
  },
  {
   "cell_type": "code",
   "execution_count": 15,
   "metadata": {},
   "outputs": [
    {
     "data": {
      "text/html": [
       "<div>\n",
       "<style scoped>\n",
       "    .dataframe tbody tr th:only-of-type {\n",
       "        vertical-align: middle;\n",
       "    }\n",
       "\n",
       "    .dataframe tbody tr th {\n",
       "        vertical-align: top;\n",
       "    }\n",
       "\n",
       "    .dataframe thead th {\n",
       "        text-align: right;\n",
       "    }\n",
       "</style>\n",
       "<table border=\"1\" class=\"dataframe\">\n",
       "  <thead>\n",
       "    <tr style=\"text-align: right;\">\n",
       "      <th></th>\n",
       "      <th>Name</th>\n",
       "    </tr>\n",
       "    <tr>\n",
       "      <th>FeatureID</th>\n",
       "      <th></th>\n",
       "    </tr>\n",
       "  </thead>\n",
       "  <tbody>\n",
       "    <tr>\n",
       "      <th>PF19517.2</th>\n",
       "      <td>Family of unknown function (DUF6050)</td>\n",
       "    </tr>\n",
       "    <tr>\n",
       "      <th>PF06368.14</th>\n",
       "      <td>Methylaspartate mutase E chain (MutE)</td>\n",
       "    </tr>\n",
       "  </tbody>\n",
       "</table>\n",
       "</div>"
      ],
      "text/plain": [
       "                                             Name\n",
       "FeatureID                                        \n",
       "PF19517.2    Family of unknown function (DUF6050)\n",
       "PF06368.14  Methylaspartate mutase E chain (MutE)"
      ]
     },
     "execution_count": 15,
     "metadata": {},
     "output_type": "execute_result"
    }
   ],
   "source": [
    "# import the sample metadata\n",
    "mf = pd.read_csv('/mnt/zarrinpar/scratch/sfloresr/metatranscript/anvi_metagenomic/woltka2_results/metaG_metadata_noNT.txt',\n",
    "                 sep='\\t', index_col=0, keep_default_na=False)\n",
    "# import the taxonomy metadata\n",
    "tf = pd.read_csv('/mnt/zarrinpar/scratch/sfloresr/metatranscript/anvi_metagenomic/woltka2_results/pfam/pfam_annotationkey.csv',\n",
    "                index_col=0)\n",
    "tf.tail(2)"
   ]
  },
  {
   "cell_type": "code",
   "execution_count": 16,
   "metadata": {},
   "outputs": [
    {
     "data": {
      "text/html": [
       "<div>\n",
       "<style scoped>\n",
       "    .dataframe tbody tr th:only-of-type {\n",
       "        vertical-align: middle;\n",
       "    }\n",
       "\n",
       "    .dataframe tbody tr th {\n",
       "        vertical-align: top;\n",
       "    }\n",
       "\n",
       "    .dataframe thead th {\n",
       "        text-align: right;\n",
       "    }\n",
       "</style>\n",
       "<table border=\"1\" class=\"dataframe\">\n",
       "  <thead>\n",
       "    <tr style=\"text-align: right;\">\n",
       "      <th></th>\n",
       "      <th>PC1</th>\n",
       "      <th>PC2</th>\n",
       "      <th>PC3</th>\n",
       "    </tr>\n",
       "    <tr>\n",
       "      <th>SampleID</th>\n",
       "      <th></th>\n",
       "      <th></th>\n",
       "      <th></th>\n",
       "    </tr>\n",
       "  </thead>\n",
       "  <tbody>\n",
       "    <tr>\n",
       "      <th>FA1b</th>\n",
       "      <td>-0.017126</td>\n",
       "      <td>0.063451</td>\n",
       "      <td>-0.127224</td>\n",
       "    </tr>\n",
       "    <tr>\n",
       "      <th>FA1c</th>\n",
       "      <td>-0.213840</td>\n",
       "      <td>0.021268</td>\n",
       "      <td>-0.074003</td>\n",
       "    </tr>\n",
       "  </tbody>\n",
       "</table>\n",
       "</div>"
      ],
      "text/plain": [
       "               PC1       PC2       PC3\n",
       "SampleID                              \n",
       "FA1b     -0.017126  0.063451 -0.127224\n",
       "FA1c     -0.213840  0.021268 -0.074003"
      ]
     },
     "execution_count": 16,
     "metadata": {},
     "output_type": "execute_result"
    }
   ],
   "source": [
    "# the sample loadings\n",
    "#spca_df = ordination.samples\n",
    "#spca_df.head(2)\n",
    "\n",
    "spca_df = pd.read_csv('/home/sfloresr/scratch/metatranscript/anvi_metagenomic/woltka2_results/ordination_deicode_TRFmetaG_noNT/sample_ordination.txt',\n",
    "                 sep='\\t', index_col=0)\n",
    "spca_df.head(2)"
   ]
  },
  {
   "cell_type": "code",
   "execution_count": 17,
   "metadata": {},
   "outputs": [
    {
     "data": {
      "text/html": [
       "<div>\n",
       "<style scoped>\n",
       "    .dataframe tbody tr th:only-of-type {\n",
       "        vertical-align: middle;\n",
       "    }\n",
       "\n",
       "    .dataframe tbody tr th {\n",
       "        vertical-align: top;\n",
       "    }\n",
       "\n",
       "    .dataframe thead th {\n",
       "        text-align: right;\n",
       "    }\n",
       "</style>\n",
       "<table border=\"1\" class=\"dataframe\">\n",
       "  <thead>\n",
       "    <tr style=\"text-align: right;\">\n",
       "      <th></th>\n",
       "      <th>PC1</th>\n",
       "      <th>PC2</th>\n",
       "      <th>PC3</th>\n",
       "    </tr>\n",
       "    <tr>\n",
       "      <th>FeatureID</th>\n",
       "      <th></th>\n",
       "      <th></th>\n",
       "      <th></th>\n",
       "    </tr>\n",
       "  </thead>\n",
       "  <tbody>\n",
       "    <tr>\n",
       "      <th>PF06319.15</th>\n",
       "      <td>0.000371</td>\n",
       "      <td>-0.003036</td>\n",
       "      <td>0.005762</td>\n",
       "    </tr>\n",
       "    <tr>\n",
       "      <th>PF14239.9</th>\n",
       "      <td>0.015826</td>\n",
       "      <td>-0.009709</td>\n",
       "      <td>0.000437</td>\n",
       "    </tr>\n",
       "  </tbody>\n",
       "</table>\n",
       "</div>"
      ],
      "text/plain": [
       "                 PC1       PC2       PC3\n",
       "FeatureID                               \n",
       "PF06319.15  0.000371 -0.003036  0.005762\n",
       "PF14239.9   0.015826 -0.009709  0.000437"
      ]
     },
     "execution_count": 17,
     "metadata": {},
     "output_type": "execute_result"
    }
   ],
   "source": [
    "# the feature loadings\n",
    "#fpca_df = ordination.features\n",
    "#fpca_df.reset_index(drop=True, inplace=True)\n",
    "\n",
    "fpca_df = pd.read_csv('/home/sfloresr/scratch/metatranscript/anvi_metagenomic/woltka2_results/ordination_deicode_TRFmetaG_noNT/feature_ordination.txt',\n",
    "                     sep='\\t', index_col=0)\n",
    "\n",
    "fpca_df.tail(2)"
   ]
  },
  {
   "cell_type": "code",
   "execution_count": 18,
   "metadata": {},
   "outputs": [
    {
     "data": {
      "text/html": [
       "<div>\n",
       "<style scoped>\n",
       "    .dataframe tbody tr th:only-of-type {\n",
       "        vertical-align: middle;\n",
       "    }\n",
       "\n",
       "    .dataframe tbody tr th {\n",
       "        vertical-align: top;\n",
       "    }\n",
       "\n",
       "    .dataframe thead th {\n",
       "        text-align: right;\n",
       "    }\n",
       "</style>\n",
       "<table border=\"1\" class=\"dataframe\">\n",
       "  <thead>\n",
       "    <tr style=\"text-align: right;\">\n",
       "      <th></th>\n",
       "      <th>PC1</th>\n",
       "      <th>PC2</th>\n",
       "      <th>PC3</th>\n",
       "      <th>condition</th>\n",
       "      <th>diet</th>\n",
       "      <th>schedule</th>\n",
       "      <th>zt_time</th>\n",
       "      <th>replicate</th>\n",
       "      <th>lightdark</th>\n",
       "    </tr>\n",
       "    <tr>\n",
       "      <th>SampleID</th>\n",
       "      <th></th>\n",
       "      <th></th>\n",
       "      <th></th>\n",
       "      <th></th>\n",
       "      <th></th>\n",
       "      <th></th>\n",
       "      <th></th>\n",
       "      <th></th>\n",
       "      <th></th>\n",
       "    </tr>\n",
       "  </thead>\n",
       "  <tbody>\n",
       "    <tr>\n",
       "      <th>FA1b</th>\n",
       "      <td>-0.017126</td>\n",
       "      <td>0.063451</td>\n",
       "      <td>-0.127224</td>\n",
       "      <td>FA</td>\n",
       "      <td>high fat diet</td>\n",
       "      <td>ad libitum</td>\n",
       "      <td>13</td>\n",
       "      <td>b</td>\n",
       "      <td>dark</td>\n",
       "    </tr>\n",
       "    <tr>\n",
       "      <th>FA1c</th>\n",
       "      <td>-0.213840</td>\n",
       "      <td>0.021268</td>\n",
       "      <td>-0.074003</td>\n",
       "      <td>FA</td>\n",
       "      <td>high fat diet</td>\n",
       "      <td>ad libitum</td>\n",
       "      <td>13</td>\n",
       "      <td>c</td>\n",
       "      <td>dark</td>\n",
       "    </tr>\n",
       "  </tbody>\n",
       "</table>\n",
       "</div>"
      ],
      "text/plain": [
       "               PC1       PC2       PC3 condition           diet    schedule  \\\n",
       "SampleID                                                                      \n",
       "FA1b     -0.017126  0.063451 -0.127224        FA  high fat diet  ad libitum   \n",
       "FA1c     -0.213840  0.021268 -0.074003        FA  high fat diet  ad libitum   \n",
       "\n",
       "          zt_time replicate lightdark  \n",
       "SampleID                               \n",
       "FA1b           13         b      dark  \n",
       "FA1c           13         c      dark  "
      ]
     },
     "execution_count": 18,
     "metadata": {},
     "output_type": "execute_result"
    }
   ],
   "source": [
    "# merge the sample metadata and loadings\n",
    "spca_df = pd.concat([spca_df, mf.reindex(spca_df.index)],\n",
    "                    axis=1, sort=True)\n",
    "spca_df['condition'].astype('category').cat.reorder_categories(['FT','FA','NA'], inplace=True)\n",
    "spca_df.head(2)"
   ]
  },
  {
   "cell_type": "code",
   "execution_count": 19,
   "metadata": {},
   "outputs": [
    {
     "data": {
      "text/html": [
       "<div>\n",
       "<style scoped>\n",
       "    .dataframe tbody tr th:only-of-type {\n",
       "        vertical-align: middle;\n",
       "    }\n",
       "\n",
       "    .dataframe tbody tr th {\n",
       "        vertical-align: top;\n",
       "    }\n",
       "\n",
       "    .dataframe thead th {\n",
       "        text-align: right;\n",
       "    }\n",
       "</style>\n",
       "<table border=\"1\" class=\"dataframe\">\n",
       "  <thead>\n",
       "    <tr style=\"text-align: right;\">\n",
       "      <th></th>\n",
       "      <th>PC1</th>\n",
       "      <th>PC2</th>\n",
       "      <th>PC3</th>\n",
       "      <th>Name</th>\n",
       "    </tr>\n",
       "    <tr>\n",
       "      <th>FeatureID</th>\n",
       "      <th></th>\n",
       "      <th></th>\n",
       "      <th></th>\n",
       "      <th></th>\n",
       "    </tr>\n",
       "  </thead>\n",
       "  <tbody>\n",
       "    <tr>\n",
       "      <th>PF06319.15</th>\n",
       "      <td>0.000371</td>\n",
       "      <td>-0.003036</td>\n",
       "      <td>0.005762</td>\n",
       "      <td>DNA repair protein MmcB-like</td>\n",
       "    </tr>\n",
       "    <tr>\n",
       "      <th>PF14239.9</th>\n",
       "      <td>0.015826</td>\n",
       "      <td>-0.009709</td>\n",
       "      <td>0.000437</td>\n",
       "      <td>RRXRR protein</td>\n",
       "    </tr>\n",
       "  </tbody>\n",
       "</table>\n",
       "</div>"
      ],
      "text/plain": [
       "                 PC1       PC2       PC3                          Name\n",
       "FeatureID                                                             \n",
       "PF06319.15  0.000371 -0.003036  0.005762  DNA repair protein MmcB-like\n",
       "PF14239.9   0.015826 -0.009709  0.000437                 RRXRR protein"
      ]
     },
     "execution_count": 19,
     "metadata": {},
     "output_type": "execute_result"
    }
   ],
   "source": [
    "# merge the feature metadata and loadings\n",
    "\n",
    "fpca_df = pd.concat([fpca_df, tf.reindex(fpca_df.index)],\n",
    "                    axis=1)\n",
    "fpca_df.tail(2)"
   ]
  },
  {
   "cell_type": "code",
   "execution_count": 24,
   "metadata": {},
   "outputs": [],
   "source": [
    "def biplot(axis1, axis2, sload, fload, hue, ax,\n",
    "           n_arrow= 20, cmap = 'Set1'):\n",
    "    \n",
    "    \"\"\"\n",
    "    This function is a helper for the tutorial. It\n",
    "    takes ordination inputs from the tutorial and\n",
    "    plots a compositional biplot.\n",
    "    \n",
    "    Parameters\n",
    "    ----------\n",
    "    axis1: str - first x-PC axis\n",
    "    axis2: str - second y-PC axis\n",
    "    \n",
    "    sload: pd.DataFrame - sample ordination\n",
    "    fload: pd.DataFrame - feature ordination\n",
    "    hue: str - subject groupings\n",
    "        \n",
    "    ax: matplitlib subplot\n",
    "    n_arrow: int - number of arrows to plot\n",
    "    level: int - taxonomic level to collapse\n",
    "    Returns\n",
    "    ----------\n",
    "    ax: matplitlib subplot\n",
    "    \"\"\"\n",
    "    # Create an array with the colors you want to use\n",
    "    colors = [\"#0072B2\",\"#D55E00\",\"#009E73\"]\n",
    "    # Set your custom color palette\n",
    "    sns.set_palette(sns.color_palette(colors))\n",
    "    \n",
    "    # sort the arrows by their PC1, PC2 mag.\n",
    "    fload['magnitude'] = np.linalg.norm(fload[[axis1, axis2]], axis=1)\n",
    "    fload = fload.sort_values('magnitude', ascending=False)\n",
    "    \n",
    "    # get cmap for arrows\n",
    "    arrow_cmap = set(fload.loc[fload.index[: n_arrow], 'Name'].values)\n",
    "    colors_ = plt.get_cmap(cmap, len(arrow_cmap))\n",
    "    arrow_cmap = {v:colors_(i) for i, v in enumerate(arrow_cmap)}\n",
    "    \n",
    "\n",
    " # plot the sample loadings\n",
    "    sns.scatterplot(axis1, axis2,\n",
    "                    data = sload,\n",
    "                    hue = hue,\n",
    "                    hue_order = ['FT', 'FA', 'NA'],\n",
    "                    palette=colors,\n",
    "                    ax=ax,\n",
    "                    s=100)\n",
    "    \n",
    "    # plot the arrows\n",
    "    legend_arrows = {}\n",
    "    for i in range(n_arrow):\n",
    "        # add arrow\n",
    "        ind_ = fload.index[i]\n",
    "        arrow_  = ax.arrow(0, 0, fload.loc[ind_, axis1],\n",
    "                        fload.loc[ind_, axis2],\n",
    "                        color=arrow_cmap[fload.loc[ind_, 'Name']],\n",
    "                        width=0.001, head_width=0.005)\n",
    "        legend_arrows[fload.loc[ind_, 'Name']] = arrow_\n",
    "    \n",
    "    # add legend\n",
    "    leg1 = ax.legend(loc='center left',\n",
    "                     bbox_to_anchor=(1, .8),\n",
    "                     title=\"condition (dots)\")\n",
    "    ax.legend(list(legend_arrows.values()),\n",
    "              list(legend_arrows.keys()), \n",
    "              loc='center left',\n",
    "              bbox_to_anchor=(1, 0.5),\n",
    "              title=\"genes (arrows)\")\n",
    "    ax.add_artist(leg1)\n",
    "    \n",
    "    #modify individual font size of elements\n",
    "    #ax.tick_params(axis='both', which='major', labelsize=0.5)\n",
    "        \n",
    "    return ax"
   ]
  },
  {
   "cell_type": "code",
   "execution_count": 25,
   "metadata": {},
   "outputs": [
    {
     "name": "stderr",
     "output_type": "stream",
     "text": [
      "/opt/anaconda3/envs/qiime2-2022.2/lib/python3.8/site-packages/seaborn/_decorators.py:36: FutureWarning: Pass the following variables as keyword args: x, y. From version 0.12, the only valid positional argument will be `data`, and passing other arguments without an explicit keyword will result in an error or misinterpretation.\n",
      "  warnings.warn(\n"
     ]
    },
    {
     "data": {
      "image/png": "[encoded data removed]",
      "text/plain": [
       "<Figure size 576x648 with 1 Axes>"
      ]
     },
     "metadata": {
      "needs_background": "light"
     },
     "output_type": "display_data"
    }
   ],
   "source": [
    "import pandas as pd\n",
    "import numpy as np\n",
    "import seaborn as sns\n",
    "from matplotlib import pyplot as plt\n",
    "%matplotlib inline\n",
    "\n",
    "fig, ax = plt.subplots(1,1, figsize=(8, 9))\n",
    "\n",
    "# plot the biplot\n",
    "ax = biplot('PC1', 'PC2', spca_df,\n",
    "            fpca_df, 'condition', ax)\n",
    "\n",
    "plt.show()\n",
    "#plt.savefig('/mnt/zarrinpar/scratch/sfloresr/HE/HE_metab/liverpath/diversity_metrics_LCMS/SFR22_0304_biplot_perifAll_warrows.pdf',\n",
    "#            dpi=300,bbox_inches='tight')"
   ]
  },
  {
   "cell_type": "markdown",
   "metadata": {},
   "source": [
    "## Songbird Analysis ##"
   ]
  },
  {
   "cell_type": "markdown",
   "metadata": {},
   "source": [
    "**FA vs. FT**"
   ]
  },
  {
   "cell_type": "code",
   "execution_count": null,
   "metadata": {},
   "outputs": [],
   "source": [
    "biom convert \\\n",
    "    -i /mnt/zarrinpar/scratch/sfloresr/metatranscript/metatranscript/woltka2_results/pfam/pfam_FAFT.txt\\\n",
    "    -o /mnt/zarrinpar/scratch/sfloresr/metatranscript/metatranscript/woltka2_results/pfam/pfam_FAFT.biom \\\n",
    "    --table-type=\"OTU table\" \\\n",
    "    --to-hdf5\n",
    "\n",
    "qiime tools import \\\n",
    "    --input-path /mnt/zarrinpar/scratch/sfloresr/metatranscript/metatranscript/woltka2_results/pfam/pfam_FAFT.biom \\\n",
    "    --output-path /mnt/zarrinpar/scratch/sfloresr/metatranscript/metatranscript/woltka2_results/pfam/pfam_FAFT.qza \\\n",
    "    --type FeatureTable[Frequency]"
   ]
  },
  {
   "cell_type": "markdown",
   "metadata": {},
   "source": [
    "now we load the biom into qiime"
   ]
  },
  {
   "cell_type": "code",
   "execution_count": null,
   "metadata": {},
   "outputs": [],
   "source": [
    "qiime songbird multinomial \\\n",
    "  --i-table /mnt/zarrinpar/scratch/sfloresr/metatranscript/metatranscript/woltka2_results/pfam/pfam_FAFT.qza \\\n",
    "  --m-metadata-file /mnt/zarrinpar/scratch/sfloresr/metatranscript/metatranscript/woltka2_results/metaT_FAFT_metadata.txt \\\n",
    "  --p-formula \"C(condition, Treatment('FA'))\" \\\n",
    "  --p-epochs 5000 \\\n",
    "  --p-differential-prior 1 \\\n",
    "  --p-summary-interval 1 \\\n",
    "  --o-differentials /mnt/zarrinpar/scratch/sfloresr/metatranscript/metatranscript/woltka2_results/songbird/differentials_FAFT_conditionOnly.qza \\\n",
    "  --o-regression-stats /mnt/zarrinpar/scratch/sfloresr/metatranscript/metatranscript/woltka2_results/songbird/regression-stats_FAFT_conditionOnly.qza \\\n",
    "  --o-regression-biplot /mnt/zarrinpar/scratch/sfloresr/metatranscript/metatranscript/woltka2_results/songbird/regression-biplot_FAFT_conditionOnly.qza"
   ]
  },
  {
   "cell_type": "code",
   "execution_count": null,
   "metadata": {},
   "outputs": [],
   "source": [
    "qiime songbird multinomial \\\n",
    "  --i-table /mnt/zarrinpar/scratch/sfloresr/metatranscript/metatranscript/woltka2_results/pfam/pfam_FAFT.qza \\\n",
    "  --m-metadata-file /mnt/zarrinpar/scratch/sfloresr/metatranscript/metatranscript/woltka2_results/metaT_FAFT_metadata.txt \\\n",
    "  --p-formula \"1\" \\\n",
    "  --p-epochs 5000 \\\n",
    "  --p-differential-prior 1 \\\n",
    "  --p-summary-interval 1 \\\n",
    "  --o-differentials /mnt/zarrinpar/scratch/sfloresr/metatranscript/metatranscript/woltka2_results/songbird/null_differentials_FAFT_conditionOnly.qza \\\n",
    "  --o-regression-stats /mnt/zarrinpar/scratch/sfloresr/metatranscript/metatranscript/woltka2_results/songbird/null-stats_FAFT_conditionOnly.qza \\\n",
    "  --o-regression-biplot /mnt/zarrinpar/scratch/sfloresr/metatranscript/metatranscript/woltka2_results/songbird/null-biplot_FAFT_conditionOnly.qza"
   ]
  },
  {
   "cell_type": "code",
   "execution_count": null,
   "metadata": {},
   "outputs": [],
   "source": [
    "qiime songbird summarize-paired \\\n",
    "\t--i-regression-stats /mnt/zarrinpar/scratch/sfloresr/metatranscript/metatranscript/woltka2_results/songbird/regression-stats_FAFT_conditionOnly.qza \\\n",
    "\t--i-baseline-stats /mnt/zarrinpar/scratch/sfloresr/metatranscript/metatranscript/woltka2_results/songbird/null-stats_FAFT_conditionOnly.qza \\\n",
    "\t--o-visualization /mnt/zarrinpar/scratch/sfloresr/metatranscript/metatranscript/woltka2_results/songbird/paired-summary-FAFT_conditionOnly.qzv"
   ]
  },
  {
   "cell_type": "markdown",
   "metadata": {},
   "source": [
    "**FT vs. NA**"
   ]
  },
  {
   "cell_type": "code",
   "execution_count": null,
   "metadata": {},
   "outputs": [],
   "source": [
    "biom convert \\\n",
    "    -i /mnt/zarrinpar/scratch/sfloresr/metatranscript/metatranscript/woltka2_results/pfam/pfam_FTNA.txt\\\n",
    "    -o /mnt/zarrinpar/scratch/sfloresr/metatranscript/metatranscript/woltka2_results/pfam/pfam_FTNA.biom \\\n",
    "    --table-type=\"OTU table\" \\\n",
    "    --to-hdf5\n",
    "\n",
    "qiime tools import \\\n",
    "    --input-path /mnt/zarrinpar/scratch/sfloresr/metatranscript/metatranscript/woltka2_results/pfam/pfam_FTNA.biom \\\n",
    "    --output-path /mnt/zarrinpar/scratch/sfloresr/metatranscript/metatranscript/woltka2_results/pfam/pfam_FTNA.qza \\\n",
    "    --type FeatureTable[Frequency]"
   ]
  },
  {
   "cell_type": "code",
   "execution_count": null,
   "metadata": {},
   "outputs": [],
   "source": [
    "qiime songbird multinomial \\\n",
    "  --i-table /mnt/zarrinpar/scratch/sfloresr/metatranscript/metatranscript/woltka2_results/pfam/pfam_FTNA.qza \\\n",
    "  --m-metadata-file /mnt/zarrinpar/scratch/sfloresr/metatranscript/metatranscript/woltka2_results/metaT_FTNA_metadata.txt \\\n",
    "  --p-formula \"C(condition, Treatment('NA'))\" \\\n",
    "  --p-epochs 5000 \\\n",
    "  --p-differential-prior 1 \\\n",
    "  --p-summary-interval 1 \\\n",
    "  --o-differentials /mnt/zarrinpar/scratch/sfloresr/metatranscript/metatranscript/woltka2_results/songbird/differentials_FTNA_conditionOnly.qza \\\n",
    "  --o-regression-stats /mnt/zarrinpar/scratch/sfloresr/metatranscript/metatranscript/woltka2_results/songbird/regression-stats_FTNA_conditionOnly.qza \\\n",
    "  --o-regression-biplot /mnt/zarrinpar/scratch/sfloresr/metatranscript/metatranscript/woltka2_results/songbird/regression-biplot_FTNA_conditionOnly.qza"
   ]
  },
  {
   "cell_type": "code",
   "execution_count": null,
   "metadata": {},
   "outputs": [],
   "source": [
    "qiime songbird multinomial \\\n",
    "  --i-table /mnt/zarrinpar/scratch/sfloresr/metatranscript/metatranscript/woltka2_results/pfam/pfam_FTNA.qza \\\n",
    "  --m-metadata-file /mnt/zarrinpar/scratch/sfloresr/metatranscript/metatranscript/woltka2_results/metaT_FTNA_metadata.txt \\\n",
    "  --p-formula \"1\" \\\n",
    "  --p-epochs 5000 \\\n",
    "  --p-differential-prior 1 \\\n",
    "  --p-summary-interval 1 \\\n",
    "  --o-differentials /mnt/zarrinpar/scratch/sfloresr/metatranscript/metatranscript/woltka2_results/songbird/null_differentials_FTNA_conditionOnly.qza \\\n",
    "  --o-regression-stats /mnt/zarrinpar/scratch/sfloresr/metatranscript/metatranscript/woltka2_results/songbird/null-stats_FTNA_conditionOnly.qza \\\n",
    "  --o-regression-biplot /mnt/zarrinpar/scratch/sfloresr/metatranscript/metatranscript/woltka2_results/songbird/null-biplot_FTNA_conditionOnly.qza"
   ]
  },
  {
   "cell_type": "code",
   "execution_count": null,
   "metadata": {},
   "outputs": [],
   "source": [
    "qiime songbird summarize-paired \\\n",
    "\t--i-regression-stats /mnt/zarrinpar/scratch/sfloresr/metatranscript/metatranscript/woltka2_results/songbird/regression-stats_FTNA_conditionOnly.qza \\\n",
    "\t--i-baseline-stats /mnt/zarrinpar/scratch/sfloresr/metatranscript/metatranscript/woltka2_results/songbird/null-stats_FTNA_conditionOnly.qza \\\n",
    "\t--o-visualization /mnt/zarrinpar/scratch/sfloresr/metatranscript/metatranscript/woltka2_results/songbird/paired-summary-FTNA_conditionOnly.qzv"
   ]
  },
  {
   "cell_type": "markdown",
   "metadata": {},
   "source": [
    "**FA vs. NA**"
   ]
  },
  {
   "cell_type": "code",
   "execution_count": null,
   "metadata": {},
   "outputs": [],
   "source": [
    "#dont run\n",
    "biom convert \\\n",
    "    -i /mnt/zarrinpar/scratch/sfloresr/metatranscript/metatranscript/woltka2_results/pfam/pfam_FANA.txt\\\n",
    "    -o /mnt/zarrinpar/scratch/sfloresr/metatranscript/metatranscript/woltka2_results/pfam/pfam_FANA.biom \\\n",
    "    --table-type=\"OTU table\" \\\n",
    "    --to-hdf5\n",
    "\n",
    "qiime tools import \\\n",
    "    --input-path /mnt/zarrinpar/scratch/sfloresr/metatranscript/metatranscript/woltka2_results/pfam/pfam_FANA.biom \\\n",
    "    --output-path /mnt/zarrinpar/scratch/sfloresr/metatranscript/metatranscript/woltka2_results/pfam/pfam_FANA.qza \\\n",
    "    --type FeatureTable[Frequency]"
   ]
  },
  {
   "cell_type": "code",
   "execution_count": null,
   "metadata": {},
   "outputs": [],
   "source": [
    "qiime songbird multinomial \\\n",
    "  --i-table /mnt/zarrinpar/scratch/sfloresr/metatranscript/metatranscript/woltka2_results/pfam/pfam_FANA.qza \\\n",
    "  --m-metadata-file /mnt/zarrinpar/scratch/sfloresr/metatranscript/metatranscript/woltka2_results/metaT_FANA_metadata.txt \\\n",
    "  --p-formula \"C(condition, Treatment('NA'))\" \\\n",
    "  --p-epochs 5000 \\\n",
    "  --p-differential-prior 1 \\\n",
    "  --p-summary-interval 1 \\\n",
    "  --o-differentials /mnt/zarrinpar/scratch/sfloresr/metatranscript/metatranscript/woltka2_results/songbird/differentials_FANA_conditionOnly.qza \\\n",
    "  --o-regression-stats /mnt/zarrinpar/scratch/sfloresr/metatranscript/metatranscript/woltka2_results/songbird/regression-stats_FANA_conditionOnly.qza \\\n",
    "  --o-regression-biplot /mnt/zarrinpar/scratch/sfloresr/metatranscript/metatranscript/woltka2_results/songbird/regression-biplot_FANA_conditionOnly.qza"
   ]
  },
  {
   "cell_type": "code",
   "execution_count": null,
   "metadata": {},
   "outputs": [],
   "source": [
    "qiime songbird multinomial \\\n",
    "  --i-table /mnt/zarrinpar/scratch/sfloresr/metatranscript/metatranscript/woltka2_results/pfam/pfam_FANA.qza \\\n",
    "  --m-metadata-file /mnt/zarrinpar/scratch/sfloresr/metatranscript/metatranscript/woltka2_results/metaT_FANA_metadata.txt \\\n",
    "  --p-formula \"1\" \\\n",
    "  --p-epochs 5000 \\\n",
    "  --p-differential-prior 1 \\\n",
    "  --p-summary-interval 1 \\\n",
    "  --o-differentials /mnt/zarrinpar/scratch/sfloresr/metatranscript/metatranscript/woltka2_results/songbird/null_differentials_FANA_conditionOnly.qza \\\n",
    "  --o-regression-stats /mnt/zarrinpar/scratch/sfloresr/metatranscript/metatranscript/woltka2_results/songbird/null-stats_FANA_conditionOnly.qza \\\n",
    "  --o-regression-biplot /mnt/zarrinpar/scratch/sfloresr/metatranscript/metatranscript/woltka2_results/songbird/null-biplot_FANA_conditionOnly.qza"
   ]
  },
  {
   "cell_type": "code",
   "execution_count": null,
   "metadata": {},
   "outputs": [],
   "source": [
    "qiime songbird summarize-paired \\\n",
    "\t--i-regression-stats /mnt/zarrinpar/scratch/sfloresr/metatranscript/metatranscript/woltka2_results/songbird/regression-stats_FANA_conditionOnly.qza \\\n",
    "\t--i-baseline-stats /mnt/zarrinpar/scratch/sfloresr/metatranscript/metatranscript/woltka2_results/songbird/null-stats_FANA_conditionOnly.qza \\\n",
    "\t--o-visualization /mnt/zarrinpar/scratch/sfloresr/metatranscript/metatranscript/woltka2_results/songbird/paired-summary-FANA_conditionOnly.qzv"
   ]
  },
  {
   "cell_type": "markdown",
   "metadata": {},
   "source": [
    "**convert counts tables to TPM**"
   ]
  },
  {
   "cell_type": "code",
   "execution_count": 4,
   "metadata": {},
   "outputs": [
    {
     "ename": "FileNotFoundError",
     "evalue": "[Errno 2] No such file or directory: '/mnt/zarrinpar/scratch/sfloresr/metatranscript/anvi_metagenomic/woltka2_results/pfam/pfam_FAFT.txt'",
     "output_type": "error",
     "traceback": [
      "\u001b[0;31m---------------------------------------------------------------------------\u001b[0m",
      "\u001b[0;31mFileNotFoundError\u001b[0m                         Traceback (most recent call last)",
      "Input \u001b[0;32mIn [4]\u001b[0m, in \u001b[0;36m<module>\u001b[0;34m\u001b[0m\n\u001b[0;32m----> 1\u001b[0m df\u001b[38;5;241m=\u001b[39m \u001b[43mpd\u001b[49m\u001b[38;5;241;43m.\u001b[39;49m\u001b[43mread_csv\u001b[49m\u001b[43m(\u001b[49m\u001b[38;5;124;43m'\u001b[39;49m\u001b[38;5;124;43m/mnt/zarrinpar/scratch/sfloresr/metatranscript/anvi_metagenomic/woltka2_results/pfam/pfam_FAFT.txt\u001b[39;49m\u001b[38;5;124;43m'\u001b[39;49m\u001b[43m,\u001b[49m\n\u001b[1;32m      2\u001b[0m \u001b[43m                     \u001b[49m\u001b[43msep\u001b[49m\u001b[38;5;241;43m=\u001b[39;49m\u001b[38;5;124;43m'\u001b[39;49m\u001b[38;5;130;43;01m\\t\u001b[39;49;00m\u001b[38;5;124;43m'\u001b[39;49m\u001b[43m,\u001b[49m\u001b[43m \u001b[49m\u001b[43mindex_col\u001b[49m\u001b[38;5;241;43m=\u001b[39;49m\u001b[38;5;241;43m0\u001b[39;49m\u001b[43m)\u001b[49m\n\u001b[1;32m      3\u001b[0m df\u001b[38;5;241m.\u001b[39mhead()\n",
      "File \u001b[0;32m/opt/anaconda3/envs/qiime2-2022.2/lib/python3.8/site-packages/pandas/io/parsers.py:610\u001b[0m, in \u001b[0;36mread_csv\u001b[0;34m(filepath_or_buffer, sep, delimiter, header, names, index_col, usecols, squeeze, prefix, mangle_dupe_cols, dtype, engine, converters, true_values, false_values, skipinitialspace, skiprows, skipfooter, nrows, na_values, keep_default_na, na_filter, verbose, skip_blank_lines, parse_dates, infer_datetime_format, keep_date_col, date_parser, dayfirst, cache_dates, iterator, chunksize, compression, thousands, decimal, lineterminator, quotechar, quoting, doublequote, escapechar, comment, encoding, dialect, error_bad_lines, warn_bad_lines, delim_whitespace, low_memory, memory_map, float_precision, storage_options)\u001b[0m\n\u001b[1;32m    605\u001b[0m kwds_defaults \u001b[38;5;241m=\u001b[39m _refine_defaults_read(\n\u001b[1;32m    606\u001b[0m     dialect, delimiter, delim_whitespace, engine, sep, defaults\u001b[38;5;241m=\u001b[39m{\u001b[38;5;124m\"\u001b[39m\u001b[38;5;124mdelimiter\u001b[39m\u001b[38;5;124m\"\u001b[39m: \u001b[38;5;124m\"\u001b[39m\u001b[38;5;124m,\u001b[39m\u001b[38;5;124m\"\u001b[39m}\n\u001b[1;32m    607\u001b[0m )\n\u001b[1;32m    608\u001b[0m kwds\u001b[38;5;241m.\u001b[39mupdate(kwds_defaults)\n\u001b[0;32m--> 610\u001b[0m \u001b[38;5;28;01mreturn\u001b[39;00m \u001b[43m_read\u001b[49m\u001b[43m(\u001b[49m\u001b[43mfilepath_or_buffer\u001b[49m\u001b[43m,\u001b[49m\u001b[43m \u001b[49m\u001b[43mkwds\u001b[49m\u001b[43m)\u001b[49m\n",
      "File \u001b[0;32m/opt/anaconda3/envs/qiime2-2022.2/lib/python3.8/site-packages/pandas/io/parsers.py:462\u001b[0m, in \u001b[0;36m_read\u001b[0;34m(filepath_or_buffer, kwds)\u001b[0m\n\u001b[1;32m    459\u001b[0m _validate_names(kwds\u001b[38;5;241m.\u001b[39mget(\u001b[38;5;124m\"\u001b[39m\u001b[38;5;124mnames\u001b[39m\u001b[38;5;124m\"\u001b[39m, \u001b[38;5;28;01mNone\u001b[39;00m))\n\u001b[1;32m    461\u001b[0m \u001b[38;5;66;03m# Create the parser.\u001b[39;00m\n\u001b[0;32m--> 462\u001b[0m parser \u001b[38;5;241m=\u001b[39m \u001b[43mTextFileReader\u001b[49m\u001b[43m(\u001b[49m\u001b[43mfilepath_or_buffer\u001b[49m\u001b[43m,\u001b[49m\u001b[43m \u001b[49m\u001b[38;5;241;43m*\u001b[39;49m\u001b[38;5;241;43m*\u001b[39;49m\u001b[43mkwds\u001b[49m\u001b[43m)\u001b[49m\n\u001b[1;32m    464\u001b[0m \u001b[38;5;28;01mif\u001b[39;00m chunksize \u001b[38;5;129;01mor\u001b[39;00m iterator:\n\u001b[1;32m    465\u001b[0m     \u001b[38;5;28;01mreturn\u001b[39;00m parser\n",
      "File \u001b[0;32m/opt/anaconda3/envs/qiime2-2022.2/lib/python3.8/site-packages/pandas/io/parsers.py:819\u001b[0m, in \u001b[0;36mTextFileReader.__init__\u001b[0;34m(self, f, engine, **kwds)\u001b[0m\n\u001b[1;32m    816\u001b[0m \u001b[38;5;28;01mif\u001b[39;00m \u001b[38;5;124m\"\u001b[39m\u001b[38;5;124mhas_index_names\u001b[39m\u001b[38;5;124m\"\u001b[39m \u001b[38;5;129;01min\u001b[39;00m kwds:\n\u001b[1;32m    817\u001b[0m     \u001b[38;5;28mself\u001b[39m\u001b[38;5;241m.\u001b[39moptions[\u001b[38;5;124m\"\u001b[39m\u001b[38;5;124mhas_index_names\u001b[39m\u001b[38;5;124m\"\u001b[39m] \u001b[38;5;241m=\u001b[39m kwds[\u001b[38;5;124m\"\u001b[39m\u001b[38;5;124mhas_index_names\u001b[39m\u001b[38;5;124m\"\u001b[39m]\n\u001b[0;32m--> 819\u001b[0m \u001b[38;5;28mself\u001b[39m\u001b[38;5;241m.\u001b[39m_engine \u001b[38;5;241m=\u001b[39m \u001b[38;5;28;43mself\u001b[39;49m\u001b[38;5;241;43m.\u001b[39;49m\u001b[43m_make_engine\u001b[49m\u001b[43m(\u001b[49m\u001b[38;5;28;43mself\u001b[39;49m\u001b[38;5;241;43m.\u001b[39;49m\u001b[43mengine\u001b[49m\u001b[43m)\u001b[49m\n",
      "File \u001b[0;32m/opt/anaconda3/envs/qiime2-2022.2/lib/python3.8/site-packages/pandas/io/parsers.py:1050\u001b[0m, in \u001b[0;36mTextFileReader._make_engine\u001b[0;34m(self, engine)\u001b[0m\n\u001b[1;32m   1046\u001b[0m     \u001b[38;5;28;01mraise\u001b[39;00m \u001b[38;5;167;01mValueError\u001b[39;00m(\n\u001b[1;32m   1047\u001b[0m         \u001b[38;5;124mf\u001b[39m\u001b[38;5;124m\"\u001b[39m\u001b[38;5;124mUnknown engine: \u001b[39m\u001b[38;5;132;01m{\u001b[39;00mengine\u001b[38;5;132;01m}\u001b[39;00m\u001b[38;5;124m (valid options are \u001b[39m\u001b[38;5;132;01m{\u001b[39;00mmapping\u001b[38;5;241m.\u001b[39mkeys()\u001b[38;5;132;01m}\u001b[39;00m\u001b[38;5;124m)\u001b[39m\u001b[38;5;124m\"\u001b[39m\n\u001b[1;32m   1048\u001b[0m     )\n\u001b[1;32m   1049\u001b[0m \u001b[38;5;66;03m# error: Too many arguments for \"ParserBase\"\u001b[39;00m\n\u001b[0;32m-> 1050\u001b[0m \u001b[38;5;28;01mreturn\u001b[39;00m \u001b[43mmapping\u001b[49m\u001b[43m[\u001b[49m\u001b[43mengine\u001b[49m\u001b[43m]\u001b[49m\u001b[43m(\u001b[49m\u001b[38;5;28;43mself\u001b[39;49m\u001b[38;5;241;43m.\u001b[39;49m\u001b[43mf\u001b[49m\u001b[43m,\u001b[49m\u001b[43m \u001b[49m\u001b[38;5;241;43m*\u001b[39;49m\u001b[38;5;241;43m*\u001b[39;49m\u001b[38;5;28;43mself\u001b[39;49m\u001b[38;5;241;43m.\u001b[39;49m\u001b[43moptions\u001b[49m\u001b[43m)\u001b[49m\n",
      "File \u001b[0;32m/opt/anaconda3/envs/qiime2-2022.2/lib/python3.8/site-packages/pandas/io/parsers.py:1867\u001b[0m, in \u001b[0;36mCParserWrapper.__init__\u001b[0;34m(self, src, **kwds)\u001b[0m\n\u001b[1;32m   1864\u001b[0m kwds[\u001b[38;5;124m\"\u001b[39m\u001b[38;5;124musecols\u001b[39m\u001b[38;5;124m\"\u001b[39m] \u001b[38;5;241m=\u001b[39m \u001b[38;5;28mself\u001b[39m\u001b[38;5;241m.\u001b[39musecols\n\u001b[1;32m   1866\u001b[0m \u001b[38;5;66;03m# open handles\u001b[39;00m\n\u001b[0;32m-> 1867\u001b[0m \u001b[38;5;28;43mself\u001b[39;49m\u001b[38;5;241;43m.\u001b[39;49m\u001b[43m_open_handles\u001b[49m\u001b[43m(\u001b[49m\u001b[43msrc\u001b[49m\u001b[43m,\u001b[49m\u001b[43m \u001b[49m\u001b[43mkwds\u001b[49m\u001b[43m)\u001b[49m\n\u001b[1;32m   1868\u001b[0m \u001b[38;5;28;01massert\u001b[39;00m \u001b[38;5;28mself\u001b[39m\u001b[38;5;241m.\u001b[39mhandles \u001b[38;5;129;01mis\u001b[39;00m \u001b[38;5;129;01mnot\u001b[39;00m \u001b[38;5;28;01mNone\u001b[39;00m\n\u001b[1;32m   1869\u001b[0m \u001b[38;5;28;01mfor\u001b[39;00m key \u001b[38;5;129;01min\u001b[39;00m (\u001b[38;5;124m\"\u001b[39m\u001b[38;5;124mstorage_options\u001b[39m\u001b[38;5;124m\"\u001b[39m, \u001b[38;5;124m\"\u001b[39m\u001b[38;5;124mencoding\u001b[39m\u001b[38;5;124m\"\u001b[39m, \u001b[38;5;124m\"\u001b[39m\u001b[38;5;124mmemory_map\u001b[39m\u001b[38;5;124m\"\u001b[39m, \u001b[38;5;124m\"\u001b[39m\u001b[38;5;124mcompression\u001b[39m\u001b[38;5;124m\"\u001b[39m):\n",
      "File \u001b[0;32m/opt/anaconda3/envs/qiime2-2022.2/lib/python3.8/site-packages/pandas/io/parsers.py:1362\u001b[0m, in \u001b[0;36mParserBase._open_handles\u001b[0;34m(self, src, kwds)\u001b[0m\n\u001b[1;32m   1358\u001b[0m \u001b[38;5;28;01mdef\u001b[39;00m \u001b[38;5;21m_open_handles\u001b[39m(\u001b[38;5;28mself\u001b[39m, src: FilePathOrBuffer, kwds: Dict[\u001b[38;5;28mstr\u001b[39m, Any]) \u001b[38;5;241m-\u001b[39m\u001b[38;5;241m>\u001b[39m \u001b[38;5;28;01mNone\u001b[39;00m:\n\u001b[1;32m   1359\u001b[0m     \u001b[38;5;124;03m\"\"\"\u001b[39;00m\n\u001b[1;32m   1360\u001b[0m \u001b[38;5;124;03m    Let the readers open IOHanldes after they are done with their potential raises.\u001b[39;00m\n\u001b[1;32m   1361\u001b[0m \u001b[38;5;124;03m    \"\"\"\u001b[39;00m\n\u001b[0;32m-> 1362\u001b[0m     \u001b[38;5;28mself\u001b[39m\u001b[38;5;241m.\u001b[39mhandles \u001b[38;5;241m=\u001b[39m \u001b[43mget_handle\u001b[49m\u001b[43m(\u001b[49m\n\u001b[1;32m   1363\u001b[0m \u001b[43m        \u001b[49m\u001b[43msrc\u001b[49m\u001b[43m,\u001b[49m\n\u001b[1;32m   1364\u001b[0m \u001b[43m        \u001b[49m\u001b[38;5;124;43m\"\u001b[39;49m\u001b[38;5;124;43mr\u001b[39;49m\u001b[38;5;124;43m\"\u001b[39;49m\u001b[43m,\u001b[49m\n\u001b[1;32m   1365\u001b[0m \u001b[43m        \u001b[49m\u001b[43mencoding\u001b[49m\u001b[38;5;241;43m=\u001b[39;49m\u001b[43mkwds\u001b[49m\u001b[38;5;241;43m.\u001b[39;49m\u001b[43mget\u001b[49m\u001b[43m(\u001b[49m\u001b[38;5;124;43m\"\u001b[39;49m\u001b[38;5;124;43mencoding\u001b[39;49m\u001b[38;5;124;43m\"\u001b[39;49m\u001b[43m,\u001b[49m\u001b[43m \u001b[49m\u001b[38;5;28;43;01mNone\u001b[39;49;00m\u001b[43m)\u001b[49m\u001b[43m,\u001b[49m\n\u001b[1;32m   1366\u001b[0m \u001b[43m        \u001b[49m\u001b[43mcompression\u001b[49m\u001b[38;5;241;43m=\u001b[39;49m\u001b[43mkwds\u001b[49m\u001b[38;5;241;43m.\u001b[39;49m\u001b[43mget\u001b[49m\u001b[43m(\u001b[49m\u001b[38;5;124;43m\"\u001b[39;49m\u001b[38;5;124;43mcompression\u001b[39;49m\u001b[38;5;124;43m\"\u001b[39;49m\u001b[43m,\u001b[49m\u001b[43m \u001b[49m\u001b[38;5;28;43;01mNone\u001b[39;49;00m\u001b[43m)\u001b[49m\u001b[43m,\u001b[49m\n\u001b[1;32m   1367\u001b[0m \u001b[43m        \u001b[49m\u001b[43mmemory_map\u001b[49m\u001b[38;5;241;43m=\u001b[39;49m\u001b[43mkwds\u001b[49m\u001b[38;5;241;43m.\u001b[39;49m\u001b[43mget\u001b[49m\u001b[43m(\u001b[49m\u001b[38;5;124;43m\"\u001b[39;49m\u001b[38;5;124;43mmemory_map\u001b[39;49m\u001b[38;5;124;43m\"\u001b[39;49m\u001b[43m,\u001b[49m\u001b[43m \u001b[49m\u001b[38;5;28;43;01mFalse\u001b[39;49;00m\u001b[43m)\u001b[49m\u001b[43m,\u001b[49m\n\u001b[1;32m   1368\u001b[0m \u001b[43m        \u001b[49m\u001b[43mstorage_options\u001b[49m\u001b[38;5;241;43m=\u001b[39;49m\u001b[43mkwds\u001b[49m\u001b[38;5;241;43m.\u001b[39;49m\u001b[43mget\u001b[49m\u001b[43m(\u001b[49m\u001b[38;5;124;43m\"\u001b[39;49m\u001b[38;5;124;43mstorage_options\u001b[39;49m\u001b[38;5;124;43m\"\u001b[39;49m\u001b[43m,\u001b[49m\u001b[43m \u001b[49m\u001b[38;5;28;43;01mNone\u001b[39;49;00m\u001b[43m)\u001b[49m\u001b[43m,\u001b[49m\n\u001b[1;32m   1369\u001b[0m \u001b[43m    \u001b[49m\u001b[43m)\u001b[49m\n",
      "File \u001b[0;32m/opt/anaconda3/envs/qiime2-2022.2/lib/python3.8/site-packages/pandas/io/common.py:647\u001b[0m, in \u001b[0;36mget_handle\u001b[0;34m(path_or_buf, mode, encoding, compression, memory_map, is_text, errors, storage_options)\u001b[0m\n\u001b[1;32m    645\u001b[0m         errors \u001b[38;5;241m=\u001b[39m \u001b[38;5;124m\"\u001b[39m\u001b[38;5;124mreplace\u001b[39m\u001b[38;5;124m\"\u001b[39m\n\u001b[1;32m    646\u001b[0m     \u001b[38;5;66;03m# Encoding\u001b[39;00m\n\u001b[0;32m--> 647\u001b[0m     handle \u001b[38;5;241m=\u001b[39m \u001b[38;5;28;43mopen\u001b[39;49m\u001b[43m(\u001b[49m\n\u001b[1;32m    648\u001b[0m \u001b[43m        \u001b[49m\u001b[43mhandle\u001b[49m\u001b[43m,\u001b[49m\n\u001b[1;32m    649\u001b[0m \u001b[43m        \u001b[49m\u001b[43mioargs\u001b[49m\u001b[38;5;241;43m.\u001b[39;49m\u001b[43mmode\u001b[49m\u001b[43m,\u001b[49m\n\u001b[1;32m    650\u001b[0m \u001b[43m        \u001b[49m\u001b[43mencoding\u001b[49m\u001b[38;5;241;43m=\u001b[39;49m\u001b[43mioargs\u001b[49m\u001b[38;5;241;43m.\u001b[39;49m\u001b[43mencoding\u001b[49m\u001b[43m,\u001b[49m\n\u001b[1;32m    651\u001b[0m \u001b[43m        \u001b[49m\u001b[43merrors\u001b[49m\u001b[38;5;241;43m=\u001b[39;49m\u001b[43merrors\u001b[49m\u001b[43m,\u001b[49m\n\u001b[1;32m    652\u001b[0m \u001b[43m        \u001b[49m\u001b[43mnewline\u001b[49m\u001b[38;5;241;43m=\u001b[39;49m\u001b[38;5;124;43m\"\u001b[39;49m\u001b[38;5;124;43m\"\u001b[39;49m\u001b[43m,\u001b[49m\n\u001b[1;32m    653\u001b[0m \u001b[43m    \u001b[49m\u001b[43m)\u001b[49m\n\u001b[1;32m    654\u001b[0m \u001b[38;5;28;01melse\u001b[39;00m:\n\u001b[1;32m    655\u001b[0m     \u001b[38;5;66;03m# Binary mode\u001b[39;00m\n\u001b[1;32m    656\u001b[0m     handle \u001b[38;5;241m=\u001b[39m \u001b[38;5;28mopen\u001b[39m(handle, ioargs\u001b[38;5;241m.\u001b[39mmode)\n",
      "\u001b[0;31mFileNotFoundError\u001b[0m: [Errno 2] No such file or directory: '/mnt/zarrinpar/scratch/sfloresr/metatranscript/anvi_metagenomic/woltka2_results/pfam/pfam_FAFT.txt'"
     ]
    }
   ],
   "source": [
    "df= pd.read_csv('/mnt/zarrinpar/scratch/sfloresr/metatranscript/anvi_metagenomic/woltka2_results/pfam/pfam_FAFT.txt',\n",
    "                     sep='\\t', index_col=0)\n",
    "df.head()"
   ]
  },
  {
   "cell_type": "code",
   "execution_count": 14,
   "metadata": {},
   "outputs": [
    {
     "data": {
      "text/html": [
       "<div>\n",
       "<style scoped>\n",
       "    .dataframe tbody tr th:only-of-type {\n",
       "        vertical-align: middle;\n",
       "    }\n",
       "\n",
       "    .dataframe tbody tr th {\n",
       "        vertical-align: top;\n",
       "    }\n",
       "\n",
       "    .dataframe thead th {\n",
       "        text-align: right;\n",
       "    }\n",
       "</style>\n",
       "<table border=\"1\" class=\"dataframe\">\n",
       "  <thead>\n",
       "    <tr style=\"text-align: right;\">\n",
       "      <th></th>\n",
       "      <th>cFA01a</th>\n",
       "      <th>cFA01b</th>\n",
       "      <th>cFA05a</th>\n",
       "      <th>cFA05b</th>\n",
       "      <th>cFA09a</th>\n",
       "      <th>cFA09b</th>\n",
       "      <th>cFA13a</th>\n",
       "      <th>cFA13b</th>\n",
       "      <th>cFA17a</th>\n",
       "      <th>cFA17b</th>\n",
       "      <th>...</th>\n",
       "      <th>cFT05a</th>\n",
       "      <th>cFT05b</th>\n",
       "      <th>cFT09a</th>\n",
       "      <th>cFT09b</th>\n",
       "      <th>cFT13a</th>\n",
       "      <th>cFT13b</th>\n",
       "      <th>cFT17a</th>\n",
       "      <th>cFT17b</th>\n",
       "      <th>cFT21a</th>\n",
       "      <th>cFT21b</th>\n",
       "    </tr>\n",
       "    <tr>\n",
       "      <th>FeatureID</th>\n",
       "      <th></th>\n",
       "      <th></th>\n",
       "      <th></th>\n",
       "      <th></th>\n",
       "      <th></th>\n",
       "      <th></th>\n",
       "      <th></th>\n",
       "      <th></th>\n",
       "      <th></th>\n",
       "      <th></th>\n",
       "      <th></th>\n",
       "      <th></th>\n",
       "      <th></th>\n",
       "      <th></th>\n",
       "      <th></th>\n",
       "      <th></th>\n",
       "      <th></th>\n",
       "      <th></th>\n",
       "      <th></th>\n",
       "      <th></th>\n",
       "      <th></th>\n",
       "    </tr>\n",
       "  </thead>\n",
       "  <tbody>\n",
       "    <tr>\n",
       "      <th>PF13561.9</th>\n",
       "      <td>290.152308</td>\n",
       "      <td>318.938010</td>\n",
       "      <td>118.945677</td>\n",
       "      <td>469.137006</td>\n",
       "      <td>411.935037</td>\n",
       "      <td>314.135808</td>\n",
       "      <td>263.543486</td>\n",
       "      <td>486.066428</td>\n",
       "      <td>382.549286</td>\n",
       "      <td>392.022535</td>\n",
       "      <td>...</td>\n",
       "      <td>356.400190</td>\n",
       "      <td>534.366809</td>\n",
       "      <td>210.596896</td>\n",
       "      <td>307.929526</td>\n",
       "      <td>194.514677</td>\n",
       "      <td>242.480643</td>\n",
       "      <td>148.536793</td>\n",
       "      <td>362.926854</td>\n",
       "      <td>165.340359</td>\n",
       "      <td>222.631694</td>\n",
       "    </tr>\n",
       "    <tr>\n",
       "      <th>PF08240.15</th>\n",
       "      <td>550.750044</td>\n",
       "      <td>374.455634</td>\n",
       "      <td>130.315049</td>\n",
       "      <td>380.091023</td>\n",
       "      <td>321.124175</td>\n",
       "      <td>448.453639</td>\n",
       "      <td>291.085729</td>\n",
       "      <td>336.206862</td>\n",
       "      <td>296.015240</td>\n",
       "      <td>340.594948</td>\n",
       "      <td>...</td>\n",
       "      <td>475.607055</td>\n",
       "      <td>503.282719</td>\n",
       "      <td>143.478864</td>\n",
       "      <td>348.793197</td>\n",
       "      <td>229.911509</td>\n",
       "      <td>488.456486</td>\n",
       "      <td>161.249766</td>\n",
       "      <td>530.861698</td>\n",
       "      <td>242.862180</td>\n",
       "      <td>285.868596</td>\n",
       "    </tr>\n",
       "    <tr>\n",
       "      <th>PF00107.29</th>\n",
       "      <td>548.495380</td>\n",
       "      <td>372.336166</td>\n",
       "      <td>128.647508</td>\n",
       "      <td>378.021686</td>\n",
       "      <td>315.225217</td>\n",
       "      <td>449.396895</td>\n",
       "      <td>288.876295</td>\n",
       "      <td>331.003210</td>\n",
       "      <td>294.763960</td>\n",
       "      <td>337.571020</td>\n",
       "      <td>...</td>\n",
       "      <td>475.864691</td>\n",
       "      <td>506.740483</td>\n",
       "      <td>141.366547</td>\n",
       "      <td>349.429501</td>\n",
       "      <td>227.929585</td>\n",
       "      <td>488.472966</td>\n",
       "      <td>161.194797</td>\n",
       "      <td>527.517662</td>\n",
       "      <td>243.494016</td>\n",
       "      <td>286.256560</td>\n",
       "    </tr>\n",
       "    <tr>\n",
       "      <th>PF12698.10</th>\n",
       "      <td>60.708069</td>\n",
       "      <td>34.170035</td>\n",
       "      <td>58.642755</td>\n",
       "      <td>56.044982</td>\n",
       "      <td>106.014833</td>\n",
       "      <td>34.870640</td>\n",
       "      <td>55.220567</td>\n",
       "      <td>126.830145</td>\n",
       "      <td>48.659486</td>\n",
       "      <td>52.674001</td>\n",
       "      <td>...</td>\n",
       "      <td>69.194907</td>\n",
       "      <td>197.533979</td>\n",
       "      <td>44.630241</td>\n",
       "      <td>53.519816</td>\n",
       "      <td>80.504233</td>\n",
       "      <td>70.547982</td>\n",
       "      <td>72.008675</td>\n",
       "      <td>121.511110</td>\n",
       "      <td>25.119077</td>\n",
       "      <td>24.023390</td>\n",
       "    </tr>\n",
       "    <tr>\n",
       "      <th>PF01264.24</th>\n",
       "      <td>23.237119</td>\n",
       "      <td>34.553989</td>\n",
       "      <td>16.306586</td>\n",
       "      <td>31.201636</td>\n",
       "      <td>28.509215</td>\n",
       "      <td>34.367571</td>\n",
       "      <td>23.243849</td>\n",
       "      <td>47.166977</td>\n",
       "      <td>24.993275</td>\n",
       "      <td>40.536689</td>\n",
       "      <td>...</td>\n",
       "      <td>10.048720</td>\n",
       "      <td>27.114771</td>\n",
       "      <td>18.953492</td>\n",
       "      <td>19.570258</td>\n",
       "      <td>12.624438</td>\n",
       "      <td>22.045343</td>\n",
       "      <td>8.500428</td>\n",
       "      <td>27.965999</td>\n",
       "      <td>19.511488</td>\n",
       "      <td>15.438243</td>\n",
       "    </tr>\n",
       "  </tbody>\n",
       "</table>\n",
       "<p>5 rows × 24 columns</p>\n",
       "</div>"
      ],
      "text/plain": [
       "                cFA01a      cFA01b      cFA05a      cFA05b      cFA09a  \\\n",
       "FeatureID                                                                \n",
       "PF13561.9   290.152308  318.938010  118.945677  469.137006  411.935037   \n",
       "PF08240.15  550.750044  374.455634  130.315049  380.091023  321.124175   \n",
       "PF00107.29  548.495380  372.336166  128.647508  378.021686  315.225217   \n",
       "PF12698.10   60.708069   34.170035   58.642755   56.044982  106.014833   \n",
       "PF01264.24   23.237119   34.553989   16.306586   31.201636   28.509215   \n",
       "\n",
       "                cFA09b      cFA13a      cFA13b      cFA17a      cFA17b  ...  \\\n",
       "FeatureID                                                               ...   \n",
       "PF13561.9   314.135808  263.543486  486.066428  382.549286  392.022535  ...   \n",
       "PF08240.15  448.453639  291.085729  336.206862  296.015240  340.594948  ...   \n",
       "PF00107.29  449.396895  288.876295  331.003210  294.763960  337.571020  ...   \n",
       "PF12698.10   34.870640   55.220567  126.830145   48.659486   52.674001  ...   \n",
       "PF01264.24   34.367571   23.243849   47.166977   24.993275   40.536689  ...   \n",
       "\n",
       "                cFT05a      cFT05b      cFT09a      cFT09b      cFT13a  \\\n",
       "FeatureID                                                                \n",
       "PF13561.9   356.400190  534.366809  210.596896  307.929526  194.514677   \n",
       "PF08240.15  475.607055  503.282719  143.478864  348.793197  229.911509   \n",
       "PF00107.29  475.864691  506.740483  141.366547  349.429501  227.929585   \n",
       "PF12698.10   69.194907  197.533979   44.630241   53.519816   80.504233   \n",
       "PF01264.24   10.048720   27.114771   18.953492   19.570258   12.624438   \n",
       "\n",
       "                cFT13b      cFT17a      cFT17b      cFT21a      cFT21b  \n",
       "FeatureID                                                               \n",
       "PF13561.9   242.480643  148.536793  362.926854  165.340359  222.631694  \n",
       "PF08240.15  488.456486  161.249766  530.861698  242.862180  285.868596  \n",
       "PF00107.29  488.472966  161.194797  527.517662  243.494016  286.256560  \n",
       "PF12698.10   70.547982   72.008675  121.511110   25.119077   24.023390  \n",
       "PF01264.24   22.045343    8.500428   27.965999   19.511488   15.438243  \n",
       "\n",
       "[5 rows x 24 columns]"
      ]
     },
     "execution_count": 14,
     "metadata": {},
     "output_type": "execute_result"
    }
   ],
   "source": [
    "df = df * 1000000 / df.sum()\n",
    "df.head()"
   ]
  },
  {
   "cell_type": "code",
   "execution_count": 15,
   "metadata": {},
   "outputs": [],
   "source": [
    "df.to_csv('/mnt/zarrinpar/scratch/sfloresr/metatranscript/metatranscript/woltka2_results/pfam/pfam_FAFT_TPM.txt',\n",
    "         sep='\\t')"
   ]
  },
  {
   "cell_type": "code",
   "execution_count": 7,
   "metadata": {},
   "outputs": [],
   "source": [
    "df= pd.read_csv('/mnt/zarrinpar/scratch/sfloresr/metatranscript/metatranscript/woltka2_results/aidan_wol2_cyclic_analysis/wol2_genome_pipeline_SFR/filtered_genome_NA.txt',\n",
    "                     sep='\\t', index_col=0)\n",
    "df = df * 1000000 / df.sum()\n",
    "df.to_csv('/mnt/zarrinpar/scratch/sfloresr/metatranscript/metatranscript/woltka2_results/aidan_wol2_cyclic_analysis/wol2_genome_pipeline_SFR/filtered_genome_NA_CPM.txt',\n",
    "         sep='\\t')"
   ]
  },
  {
   "cell_type": "code",
   "execution_count": 8,
   "metadata": {},
   "outputs": [],
   "source": [
    "df= pd.read_csv('/mnt/zarrinpar/scratch/sfloresr/metatranscript/metatranscript/woltka2_results/aidan_wol2_cyclic_analysis/wol2_genome_pipeline_SFR/filtered_genome_FA.txt',\n",
    "                     sep='\\t', index_col=0)\n",
    "df = df * 1000000 / df.sum()\n",
    "df.to_csv('/mnt/zarrinpar/scratch/sfloresr/metatranscript/metatranscript/woltka2_results/aidan_wol2_cyclic_analysis/wol2_genome_pipeline_SFR/filtered_genome_FA_CPM.txt',\n",
    "         sep='\\t')"
   ]
  },
  {
   "cell_type": "code",
   "execution_count": 10,
   "metadata": {},
   "outputs": [],
   "source": [
    "df= pd.read_csv('/mnt/zarrinpar/scratch/sfloresr/metatranscript/metatranscript/woltka2_results/aidan_wol2_cyclic_analysis/wol2_genome_pipeline_SFR/filtered_genome_FT.txt',\n",
    "                     sep='\\t', index_col=0)\n",
    "df = df * 1000000 / df.sum()\n",
    "df.to_csv('/mnt/zarrinpar/scratch/sfloresr/metatranscript/metatranscript/woltka2_results/aidan_wol2_cyclic_analysis/wol2_genome_pipeline_SFR/filtered_genome_FT_CPM.txt',\n",
    "         sep='\\t')"
   ]
  },
  {
   "cell_type": "code",
   "execution_count": 5,
   "metadata": {},
   "outputs": [],
   "source": [
    "df= pd.read_csv('/mnt/zarrinpar/scratch/sfloresr/metatranscript/metagenomic/woltka2_results/filtered_metaG/go/function_clean_noNT.txt',\n",
    "                     sep='\\t', index_col=0)\n",
    "df = df * 1000000 / df.sum()\n",
    "df.to_csv('/mnt/zarrinpar/scratch/sfloresr/metatranscript/metagenomic/woltka2_results/filtered_metaG/go/function_clean_noNT_CPM.txt',\n",
    "         sep='\\t')"
   ]
  },
  {
   "cell_type": "code",
   "execution_count": 12,
   "metadata": {},
   "outputs": [],
   "source": [
    "df= pd.read_csv('/mnt/zarrinpar/scratch/sfloresr/metatranscript/metagenomic/woltka2_results/filtered_metaG/pfam/pfam_FTNA.txt',\n",
    "                     sep='\\t', index_col=0)\n",
    "df = df * 1000000 / df.sum()\n",
    "df.to_csv('/mnt/zarrinpar/scratch/sfloresr/metatranscript/metagenomic/woltka2_results/filtered_metaG/pfam/pfam_FTNA_TPM.txt',\n",
    "         sep='\\t')"
   ]
  },
  {
   "cell_type": "code",
   "execution_count": 13,
   "metadata": {},
   "outputs": [],
   "source": [
    "df= pd.read_csv('/mnt/zarrinpar/scratch/sfloresr/metatranscript/metagenomic/woltka2_results/filtered_metaG/pfam/pfam_FANA.txt',\n",
    "                     sep='\\t', index_col=0)\n",
    "df = df * 1000000 / df.sum()\n",
    "df.to_csv('/mnt/zarrinpar/scratch/sfloresr/metatranscript/metagenomic/woltka2_results/filtered_metaG/pfam/pfam_FANA_TPM.txt',\n",
    "         sep='\\t')"
   ]
  },
  {
   "cell_type": "code",
   "execution_count": 14,
   "metadata": {},
   "outputs": [],
   "source": [
    "df= pd.read_csv('/mnt/zarrinpar/scratch/sfloresr/metatranscript/metagenomic/woltka2_results/filtered_metaG/pfam/pfam_FAFT.txt',\n",
    "                     sep='\\t', index_col=0)\n",
    "df = df * 1000000 / df.sum()\n",
    "df.to_csv('/mnt/zarrinpar/scratch/sfloresr/metatranscript/metagenomic/woltka2_results/filtered_metaG/pfam/pfam_FAFT_TPM.txt',\n",
    "         sep='\\t')"
   ]
  },
  {
   "cell_type": "code",
   "execution_count": 15,
   "metadata": {},
   "outputs": [],
   "source": [
    "df= pd.read_csv('/mnt/zarrinpar/scratch/sfloresr/metatranscript/metagenomic/woltka2_results/filtered_metaG/pfam/pfam_FTNAL.txt',\n",
    "                     sep='\\t', index_col=0)\n",
    "df = df * 1000000 / df.sum()\n",
    "df.to_csv('/mnt/zarrinpar/scratch/sfloresr/metatranscript/metagenomic/woltka2_results/filtered_metaG/pfam/pfam_FTNAL_TPM.txt',\n",
    "         sep='\\t')"
   ]
  },
  {
   "cell_type": "code",
   "execution_count": 16,
   "metadata": {},
   "outputs": [],
   "source": [
    "df= pd.read_csv('/mnt/zarrinpar/scratch/sfloresr/metatranscript/metagenomic/woltka2_results/filtered_metaG/pfam/pfam_FANAL.txt',\n",
    "                     sep='\\t', index_col=0)\n",
    "df = df * 1000000 / df.sum()\n",
    "df.to_csv('/mnt/zarrinpar/scratch/sfloresr/metatranscript/metagenomic/woltka2_results/filtered_metaG/pfam/pfam_FANAL_TPM.txt',\n",
    "         sep='\\t')"
   ]
  },
  {
   "cell_type": "code",
   "execution_count": 17,
   "metadata": {},
   "outputs": [],
   "source": [
    "df= pd.read_csv('/mnt/zarrinpar/scratch/sfloresr/metatranscript/metagenomic/woltka2_results/filtered_metaG/pfam/pfam_FAFTL.txt',\n",
    "                     sep='\\t', index_col=0)\n",
    "df = df * 1000000 / df.sum()\n",
    "df.to_csv('/mnt/zarrinpar/scratch/sfloresr/metatranscript/metagenomic/woltka2_results/filtered_metaG/pfam/pfam_FAFTL_TPM.txt',\n",
    "         sep='\\t')"
   ]
  },
  {
   "cell_type": "code",
   "execution_count": 18,
   "metadata": {},
   "outputs": [],
   "source": [
    "df= pd.read_csv('/mnt/zarrinpar/scratch/sfloresr/metatranscript/metagenomic/woltka2_results/filtered_metaG/pfam/pfam_FTNAD.txt',\n",
    "                     sep='\\t', index_col=0)\n",
    "df = df * 1000000 / df.sum()\n",
    "df.to_csv('/mnt/zarrinpar/scratch/sfloresr/metatranscript/metagenomic/woltka2_results/filtered_metaG/pfam/pfam_FTNAD_TPM.txt',\n",
    "         sep='\\t')"
   ]
  },
  {
   "cell_type": "code",
   "execution_count": 19,
   "metadata": {},
   "outputs": [],
   "source": [
    "df= pd.read_csv('/mnt/zarrinpar/scratch/sfloresr/metatranscript/metagenomic/woltka2_results/filtered_metaG/pfam/pfam_FANAD.txt',\n",
    "                     sep='\\t', index_col=0)\n",
    "df = df * 1000000 / df.sum()\n",
    "df.to_csv('/mnt/zarrinpar/scratch/sfloresr/metatranscript/metagenomic/woltka2_results/filtered_metaG/pfam/pfam_FANAD_TPM.txt',\n",
    "         sep='\\t')"
   ]
  },
  {
   "cell_type": "code",
   "execution_count": 20,
   "metadata": {},
   "outputs": [],
   "source": [
    "df= pd.read_csv('/mnt/zarrinpar/scratch/sfloresr/metatranscript/metagenomic/woltka2_results/filtered_metaG/pfam/pfam_FAFTD.txt',\n",
    "                     sep='\\t', index_col=0)\n",
    "df = df * 1000000 / df.sum()\n",
    "df.to_csv('/mnt/zarrinpar/scratch/sfloresr/metatranscript/metagenomic/woltka2_results/filtered_metaG/pfam/pfam_FAFTD_TPM.txt',\n",
    "         sep='\\t')"
   ]
  },
  {
   "cell_type": "code",
   "execution_count": null,
   "metadata": {},
   "outputs": [],
   "source": []
  }
 ],
 "metadata": {
  "kernelspec": {
   "display_name": "qiime2-2023.7",
   "language": "python",
   "name": "qiime2-2023.7"
  },
  "language_info": {
   "codemirror_mode": {
    "name": "ipython",
    "version": 3
   },
   "file_extension": ".py",
   "mimetype": "text/x-python",
   "name": "python",
   "nbconvert_exporter": "python",
   "pygments_lexer": "ipython3",
   "version": "3.8.15"
  }
 },
 "nbformat": 4,
 "nbformat_minor": 4
}
